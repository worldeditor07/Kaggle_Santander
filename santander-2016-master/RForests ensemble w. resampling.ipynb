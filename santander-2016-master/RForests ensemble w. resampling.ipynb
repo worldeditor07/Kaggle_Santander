{
 "cells": [
  {
   "cell_type": "markdown",
   "metadata": {},
   "source": [
    "In this notebook we take the approach of randomly undersampling the majority class (0 i.e. happy) to create balanced training data sets."
   ]
  },
  {
   "cell_type": "code",
   "execution_count": 3,
   "metadata": {
    "collapsed": false
   },
   "outputs": [],
   "source": [
    "import pandas as pd\n",
    "import numpy as np\n",
    "from sklearn.ensemble import RandomForestClassifier\n",
    "from sklearn.model_selection import train_test_split\n",
    "from sklearn.metrics import roc_auc_score\n",
    "import matplotlib.pyplot as plt\n",
    "%matplotlib inline\n",
    "import seaborn as sns"
   ]
  },
  {
   "cell_type": "code",
   "execution_count": 4,
   "metadata": {
    "collapsed": false
   },
   "outputs": [],
   "source": [
    "# We import custom utility functions for data processing and random forest training\n",
    "from process_data import process, create_submission, drop_columns\n",
    "from train_forests import trainForests, mean_ensemble"
   ]
  },
  {
   "cell_type": "code",
   "execution_count": 5,
   "metadata": {
    "collapsed": false
   },
   "outputs": [],
   "source": [
    "data = pd.read_csv('data/train_saldo.csv')"
   ]
  },
  {
   "cell_type": "code",
   "execution_count": 4,
   "metadata": {
    "collapsed": false
   },
   "outputs": [],
   "source": [
    "#process(data)"
   ]
  },
  {
   "cell_type": "code",
   "execution_count": 6,
   "metadata": {
    "collapsed": false
   },
   "outputs": [],
   "source": [
    "# New feature counting zero entries\n",
    "original_features = data.columns[:-1]\n",
    "data.insert(len(original_features),'SumZeros',(data[original_features] == 0).sum(axis=1))"
   ]
  },
  {
   "cell_type": "code",
   "execution_count": 7,
   "metadata": {
    "collapsed": false
   },
   "outputs": [],
   "source": [
    "# New feature describing the number of assets\n",
    "asset_features = [name for name in data.columns if 'ind' in name]\n",
    "temp = data[asset_features].sum(axis=1)\n",
    "data.insert(data.shape[1]-1, 'NumAssets', temp)"
   ]
  },
  {
   "cell_type": "code",
   "execution_count": 3,
   "metadata": {
    "collapsed": true
   },
   "outputs": [
    {
     "ename": "NameError",
     "evalue": "name 'data' is not defined",
     "output_type": "error",
     "traceback": [
      "\u001b[1;31m---------------------------------------------------------------------------\u001b[0m",
      "\u001b[1;31mNameError\u001b[0m                                 Traceback (most recent call last)",
      "\u001b[1;32m<ipython-input-3-98acd1d94e27>\u001b[0m in \u001b[0;36m<module>\u001b[1;34m()\u001b[0m\n\u001b[0;32m      1\u001b[0m \u001b[1;31m# New feature counting mean balance of non zero saldo variables\u001b[0m\u001b[1;33m\u001b[0m\u001b[1;33m\u001b[0m\u001b[0m\n\u001b[1;32m----> 2\u001b[1;33m \u001b[0msaldo_features\u001b[0m \u001b[1;33m=\u001b[0m \u001b[1;33m[\u001b[0m\u001b[0mname\u001b[0m \u001b[1;32mfor\u001b[0m \u001b[0mname\u001b[0m \u001b[1;32min\u001b[0m \u001b[0mdata\u001b[0m\u001b[1;33m.\u001b[0m\u001b[0mcolumns\u001b[0m \u001b[1;32mif\u001b[0m \u001b[1;34m'saldo_v'\u001b[0m \u001b[1;32min\u001b[0m \u001b[0mname\u001b[0m\u001b[1;33m]\u001b[0m\u001b[1;33m\u001b[0m\u001b[0m\n\u001b[0m\u001b[0;32m      3\u001b[0m \u001b[0mtemp\u001b[0m \u001b[1;33m=\u001b[0m \u001b[0mdata\u001b[0m\u001b[1;33m[\u001b[0m\u001b[0msaldo_features\u001b[0m\u001b[1;33m]\u001b[0m\u001b[1;33m\u001b[0m\u001b[0m\n\u001b[0;32m      4\u001b[0m \u001b[0mtemp\u001b[0m\u001b[1;33m[\u001b[0m\u001b[0mtemp\u001b[0m \u001b[1;33m==\u001b[0m \u001b[1;36m0\u001b[0m\u001b[1;33m]\u001b[0m \u001b[1;33m=\u001b[0m \u001b[0mnp\u001b[0m\u001b[1;33m.\u001b[0m\u001b[0mnan\u001b[0m\u001b[1;33m\u001b[0m\u001b[0m\n\u001b[0;32m      5\u001b[0m \u001b[0mtemp\u001b[0m \u001b[1;33m=\u001b[0m \u001b[0mnp\u001b[0m\u001b[1;33m.\u001b[0m\u001b[0mnanmean\u001b[0m\u001b[1;33m(\u001b[0m\u001b[0mtemp\u001b[0m\u001b[1;33m,\u001b[0m \u001b[0maxis\u001b[0m\u001b[1;33m=\u001b[0m\u001b[1;36m1\u001b[0m\u001b[1;33m)\u001b[0m\u001b[1;33m\u001b[0m\u001b[0m\n",
      "\u001b[1;31mNameError\u001b[0m: name 'data' is not defined"
     ]
    }
   ],
   "source": [
    "# New feature counting mean balance of non zero saldo variables\n",
    "saldo_features = [name for name in data.columns if 'saldo_v' in name]\n",
    "temp = data[saldo_features]\n",
    "temp[temp == 0] = np.nan\n",
    "temp = np.nanmean(temp, axis=1)\n",
    "data.insert(data.shape[1]-1, 'MeanBalances', temp)       "
   ]
  },
  {
   "cell_type": "code",
   "execution_count": 8,
   "metadata": {
    "collapsed": false
   },
   "outputs": [
    {
     "name": "stderr",
     "output_type": "stream",
     "text": [
      "/home/martin/.anaconda3/lib/python3.5/site-packages/numpy/lib/nanfunctions.py:703: RuntimeWarning: Mean of empty slice\n",
      "  warnings.warn(\"Mean of empty slice\", RuntimeWarning)\n"
     ]
    }
   ],
   "source": [
    "# New feature counting mean balance of non zero saldo variables\n",
    "saldo_medio_features = [name for name in data.columns if 'saldo_medio' in name]\n",
    "temp = data[saldo_medio_features]\n",
    "temp[temp == 0] = np.nan\n",
    "temp = np.nanmean(temp, axis=1)\n",
    "data.insert(data.shape[1]-1, 'MeanMeanBalances', temp)    "
   ]
  },
  {
   "cell_type": "code",
   "execution_count": 9,
   "metadata": {
    "collapsed": false
   },
   "outputs": [],
   "source": [
    "data = data.fillna(0)"
   ]
  },
  {
   "cell_type": "code",
   "execution_count": 10,
   "metadata": {
    "collapsed": false
   },
   "outputs": [],
   "source": [
    "#drop_columns(data, asset_features+saldo_features+saldo_medio_features)"
   ]
  },
  {
   "cell_type": "code",
   "execution_count": 7,
   "metadata": {
    "collapsed": false
   },
   "outputs": [
    {
     "data": {
      "text/html": [
       "<div>\n",
       "<table border=\"1\" class=\"dataframe\">\n",
       "  <thead>\n",
       "    <tr style=\"text-align: right;\">\n",
       "      <th></th>\n",
       "      <th>mean_saldo_medio_ult3</th>\n",
       "      <th>mean_saldo_medio_ult1</th>\n",
       "      <th>mean_saldo_medio_hace3</th>\n",
       "      <th>mean_saldo_medio_hace2</th>\n",
       "      <th>mean_saldo</th>\n",
       "      <th>var3</th>\n",
       "      <th>var15</th>\n",
       "      <th>imp_ent_var16_ult1</th>\n",
       "      <th>imp_op_var39_comer_ult1</th>\n",
       "      <th>imp_op_var39_comer_ult3</th>\n",
       "      <th>...</th>\n",
       "      <th>num_venta_var44_hace3</th>\n",
       "      <th>num_venta_var44_ult1</th>\n",
       "      <th>num_var45_hace2</th>\n",
       "      <th>num_var45_hace3</th>\n",
       "      <th>num_var45_ult1</th>\n",
       "      <th>num_var45_ult3</th>\n",
       "      <th>var38</th>\n",
       "      <th>SumZeros</th>\n",
       "      <th>NumAssets</th>\n",
       "      <th>TARGET</th>\n",
       "    </tr>\n",
       "  </thead>\n",
       "  <tbody>\n",
       "    <tr>\n",
       "      <th>0</th>\n",
       "      <td>0.000000</td>\n",
       "      <td>0.000000</td>\n",
       "      <td>0.000000</td>\n",
       "      <td>0.000000</td>\n",
       "      <td>0.000000</td>\n",
       "      <td>0</td>\n",
       "      <td>23</td>\n",
       "      <td>0.0</td>\n",
       "      <td>0.0</td>\n",
       "      <td>0.0</td>\n",
       "      <td>...</td>\n",
       "      <td>0</td>\n",
       "      <td>0</td>\n",
       "      <td>0</td>\n",
       "      <td>0</td>\n",
       "      <td>0</td>\n",
       "      <td>0</td>\n",
       "      <td>39205.170000</td>\n",
       "      <td>262</td>\n",
       "      <td>4</td>\n",
       "      <td>0</td>\n",
       "    </tr>\n",
       "    <tr>\n",
       "      <th>1</th>\n",
       "      <td>5.344853</td>\n",
       "      <td>5.916563</td>\n",
       "      <td>3.232779</td>\n",
       "      <td>4.090454</td>\n",
       "      <td>5.789128</td>\n",
       "      <td>0</td>\n",
       "      <td>34</td>\n",
       "      <td>0.0</td>\n",
       "      <td>0.0</td>\n",
       "      <td>0.0</td>\n",
       "      <td>...</td>\n",
       "      <td>0</td>\n",
       "      <td>0</td>\n",
       "      <td>0</td>\n",
       "      <td>0</td>\n",
       "      <td>0</td>\n",
       "      <td>0</td>\n",
       "      <td>49278.030000</td>\n",
       "      <td>239</td>\n",
       "      <td>9</td>\n",
       "      <td>0</td>\n",
       "    </tr>\n",
       "    <tr>\n",
       "      <th>2</th>\n",
       "      <td>5.223912</td>\n",
       "      <td>5.833154</td>\n",
       "      <td>0.648847</td>\n",
       "      <td>3.403428</td>\n",
       "      <td>5.673626</td>\n",
       "      <td>0</td>\n",
       "      <td>23</td>\n",
       "      <td>0.0</td>\n",
       "      <td>0.0</td>\n",
       "      <td>0.0</td>\n",
       "      <td>...</td>\n",
       "      <td>0</td>\n",
       "      <td>0</td>\n",
       "      <td>0</td>\n",
       "      <td>0</td>\n",
       "      <td>0</td>\n",
       "      <td>0</td>\n",
       "      <td>67333.770000</td>\n",
       "      <td>249</td>\n",
       "      <td>6</td>\n",
       "      <td>0</td>\n",
       "    </tr>\n",
       "    <tr>\n",
       "      <th>3</th>\n",
       "      <td>5.294992</td>\n",
       "      <td>5.858761</td>\n",
       "      <td>0.000000</td>\n",
       "      <td>3.879004</td>\n",
       "      <td>5.705782</td>\n",
       "      <td>0</td>\n",
       "      <td>37</td>\n",
       "      <td>0.0</td>\n",
       "      <td>195.0</td>\n",
       "      <td>195.0</td>\n",
       "      <td>...</td>\n",
       "      <td>0</td>\n",
       "      <td>0</td>\n",
       "      <td>27</td>\n",
       "      <td>3</td>\n",
       "      <td>18</td>\n",
       "      <td>48</td>\n",
       "      <td>64007.970000</td>\n",
       "      <td>219</td>\n",
       "      <td>13</td>\n",
       "      <td>0</td>\n",
       "    </tr>\n",
       "    <tr>\n",
       "      <th>4</th>\n",
       "      <td>9.218883</td>\n",
       "      <td>9.468189</td>\n",
       "      <td>0.655791</td>\n",
       "      <td>3.403428</td>\n",
       "      <td>9.993840</td>\n",
       "      <td>0</td>\n",
       "      <td>39</td>\n",
       "      <td>0.0</td>\n",
       "      <td>0.0</td>\n",
       "      <td>0.0</td>\n",
       "      <td>...</td>\n",
       "      <td>0</td>\n",
       "      <td>0</td>\n",
       "      <td>0</td>\n",
       "      <td>0</td>\n",
       "      <td>0</td>\n",
       "      <td>0</td>\n",
       "      <td>117310.979016</td>\n",
       "      <td>231</td>\n",
       "      <td>11</td>\n",
       "      <td>0</td>\n",
       "    </tr>\n",
       "  </tbody>\n",
       "</table>\n",
       "<p>5 rows × 278 columns</p>\n",
       "</div>"
      ],
      "text/plain": [
       "   mean_saldo_medio_ult3  mean_saldo_medio_ult1  mean_saldo_medio_hace3  \\\n",
       "0               0.000000               0.000000                0.000000   \n",
       "1               5.344853               5.916563                3.232779   \n",
       "2               5.223912               5.833154                0.648847   \n",
       "3               5.294992               5.858761                0.000000   \n",
       "4               9.218883               9.468189                0.655791   \n",
       "\n",
       "   mean_saldo_medio_hace2  mean_saldo  var3  var15  imp_ent_var16_ult1  \\\n",
       "0                0.000000    0.000000     0     23                 0.0   \n",
       "1                4.090454    5.789128     0     34                 0.0   \n",
       "2                3.403428    5.673626     0     23                 0.0   \n",
       "3                3.879004    5.705782     0     37                 0.0   \n",
       "4                3.403428    9.993840     0     39                 0.0   \n",
       "\n",
       "   imp_op_var39_comer_ult1  imp_op_var39_comer_ult3   ...    \\\n",
       "0                      0.0                      0.0   ...     \n",
       "1                      0.0                      0.0   ...     \n",
       "2                      0.0                      0.0   ...     \n",
       "3                    195.0                    195.0   ...     \n",
       "4                      0.0                      0.0   ...     \n",
       "\n",
       "   num_venta_var44_hace3  num_venta_var44_ult1  num_var45_hace2  \\\n",
       "0                      0                     0                0   \n",
       "1                      0                     0                0   \n",
       "2                      0                     0                0   \n",
       "3                      0                     0               27   \n",
       "4                      0                     0                0   \n",
       "\n",
       "   num_var45_hace3  num_var45_ult1  num_var45_ult3          var38  SumZeros  \\\n",
       "0                0               0               0   39205.170000       262   \n",
       "1                0               0               0   49278.030000       239   \n",
       "2                0               0               0   67333.770000       249   \n",
       "3                3              18              48   64007.970000       219   \n",
       "4                0               0               0  117310.979016       231   \n",
       "\n",
       "   NumAssets  TARGET  \n",
       "0          4       0  \n",
       "1          9       0  \n",
       "2          6       0  \n",
       "3         13       0  \n",
       "4         11       0  \n",
       "\n",
       "[5 rows x 278 columns]"
      ]
     },
     "execution_count": 7,
     "metadata": {},
     "output_type": "execute_result"
    }
   ],
   "source": [
    "data.head()"
   ]
  },
  {
   "cell_type": "code",
   "execution_count": 8,
   "metadata": {
    "collapsed": true
   },
   "outputs": [],
   "source": [
    "def feature_importance(n_trees, data):\n",
    "    rf = RandomForestClassifier(n_trees)\n",
    "    rf.fit(data.ix[:,:-1], data.ix[:,-1])\n",
    "    fimp = rf.feature_importances_\n",
    "    important = {}\n",
    "    for idx, name in enumerate(data.ix[:,:-1].columns):\n",
    "        important[name] = fimp[idx]\n",
    "    return important"
   ]
  },
  {
   "cell_type": "code",
   "execution_count": 13,
   "metadata": {
    "collapsed": false,
    "scrolled": true
   },
   "outputs": [
    {
     "name": "stdout",
     "output_type": "stream",
     "text": [
      "We have ranked the features as follows:\n",
      "var38 --> 0.384676788967\n",
      "var15 --> 0.174755697458\n",
      "mean_saldo_medio_ult3 --> 0.0349544164114\n",
      "mean_saldo_medio_hace3 --> 0.0295736058921\n",
      "SumZeros --> 0.0207480309543\n",
      "mean_saldo_medio_hace2 --> 0.0206811160103\n",
      "mean_saldo_medio_ult1 --> 0.0206600961194\n",
      "num_var45_ult3 --> 0.0188494355936\n",
      "mean_saldo --> 0.0185687931255\n",
      "num_var45_hace3 --> 0.0156202927445\n",
      "num_var45_hace2 --> 0.0142572241725\n",
      "num_var22_ult3 --> 0.0132212321041\n",
      "num_var45_ult1 --> 0.0108036242197\n",
      "num_med_var45_ult3 --> 0.0102241993305\n",
      "-----There are 15 features above 0.01-----\n",
      "num_var22_hace2 --> 0.00971274607586\n",
      "num_var22_hace3 --> 0.00957686562\n",
      "var36 --> 0.00820081785725\n",
      "num_var22_ult1 --> 0.00730728062059\n",
      "num_meses_var39_vig_ult3 --> 0.00687222221618\n",
      "num_med_var22_ult3 --> 0.0053219443016\n",
      "NumAssets --> 0.0052336787654\n",
      "num_meses_var5_ult3 --> 0.00512512462368\n",
      "imp_op_var41_ult1 --> 0.00472699171541\n",
      "imp_op_var39_ult1 --> 0.00466057233638\n",
      "imp_op_var39_comer_ult3 --> 0.00445057648392\n",
      "imp_op_var41_comer_ult3 --> 0.00442021773882\n",
      "imp_op_var41_efect_ult3 --> 0.00409164524295\n",
      "imp_op_var39_efect_ult3 --> 0.00404957709278\n",
      "imp_trans_var37_ult1 --> 0.00401793303269\n",
      "imp_op_var39_comer_ult1 --> 0.00374507951431\n",
      "imp_op_var41_comer_ult1 --> 0.00362155354953\n",
      "num_op_var41_ult3 --> 0.00347508442229\n",
      "num_op_var39_ult3 --> 0.00345263590402\n",
      "num_var35 --> 0.00337775287028\n",
      "num_var4 --> 0.00333164032494\n",
      "imp_ent_var16_ult1 --> 0.00318529871308\n",
      "imp_op_var41_efect_ult1 --> 0.00315844375924\n",
      "imp_op_var39_efect_ult1 --> 0.00310863527529\n",
      "num_op_var39_comer_ult3 --> 0.00293485038532\n",
      "num_op_var41_comer_ult3 --> 0.00290648634233\n",
      "num_var30 --> 0.00289317969148\n",
      "num_op_var39_hace2 --> 0.0027973389766\n",
      "imp_var43_emit_ult1 --> 0.00279410204609\n",
      "num_op_var39_ult1 --> 0.00274619184405\n",
      "num_op_var41_hace2 --> 0.00270148305721\n",
      "num_op_var41_ult1 --> 0.0026381219924\n",
      "num_op_var41_efect_ult3 --> 0.00253898571616\n",
      "num_op_var39_efect_ult3 --> 0.00248975754135\n",
      "num_op_var41_comer_ult1 --> 0.00243159972378\n",
      "num_op_var39_comer_ult1 --> 0.00241981652741\n",
      "num_var43_recib_ult1 --> 0.00240860467757\n",
      "num_var42 --> 0.00230568352677\n",
      "ind_var30 --> 0.0020492145372\n",
      "var3 --> 0.00202624730911\n",
      "num_ent_var16_ult1 --> 0.00201921188193\n",
      "num_var43_emit_ult1 --> 0.00193142981573\n",
      "num_var5 --> 0.00179345401834\n",
      "num_op_var39_efect_ult1 --> 0.00177792099948\n",
      "num_var37_0 --> 0.001766985026\n",
      "num_op_var41_efect_ult1 --> 0.00174973919796\n",
      "num_var37_med_ult2 --> 0.00167020903836\n",
      "num_var41_0 --> 0.00165353827159\n",
      "num_var37 --> 0.00163126907022\n",
      "num_var39_0 --> 0.00158255464378\n",
      "ind_var5 --> 0.00147093310388\n",
      "ind_var43_recib_ult1 --> 0.00126830759007\n",
      "num_var8_0 --> 0.00119127469814\n",
      "num_var5_0 --> 0.00115459147462\n",
      "num_var30_0 --> 0.00111538801154\n",
      "ind_var8_0 --> 0.00110090337069\n",
      "num_var42_0 --> 0.00109096965059\n",
      "ind_var43_emit_ult1 --> 0.00104848400237\n",
      "num_meses_var8_ult3 --> 0.000872271824119\n",
      "ind_var5_0 --> 0.000732536082633\n",
      "ind_var37_cte --> 0.000724747010168\n",
      "num_trasp_var11_ult1 --> 0.000716663166529\n",
      "ind_var37 --> 0.0007050144082\n",
      "ind_var9_cte_ult1 --> 0.000694960969218\n",
      "ind_var37_0 --> 0.000688945948929\n",
      "ind_var41_0 --> 0.000681132504089\n",
      "ind_var39_0 --> 0.000654582090121\n",
      "ind_var10cte_ult1 --> 0.000646328927016\n",
      "ind_var9_ult1 --> 0.000609340029932\n",
      "num_op_var41_hace3 --> 0.000581306597487\n",
      "ind_var10_ult1 --> 0.000580096758539\n",
      "num_op_var39_hace3 --> 0.00057864394622\n",
      "num_var12_0 --> 0.000514594354949\n",
      "ind_var12_0 --> 0.000478365009866\n",
      "num_var26 --> 0.000461109736777\n",
      "num_var26_0 --> 0.000419914034419\n",
      "num_var25 --> 0.000417806678723\n",
      "num_var25_0 --> 0.000400832344491\n",
      "num_sal_var16_ult1 --> 0.000391730005325\n",
      "imp_var7_recib_ult1 --> 0.000389435533833\n",
      "imp_sal_var16_ult1 --> 0.000378691282606\n",
      "imp_op_var40_efect_ult1 --> 0.000373414096784\n",
      "var21 --> 0.000371097911432\n",
      "ind_var26_cte --> 0.000366211324477\n",
      "num_meses_var12_ult3 --> 0.000364742260174\n",
      "ind_var24_0 --> 0.000363302685284\n",
      "ind_var8 --> 0.000340664059\n",
      "ind_var25_cte --> 0.000336353356093\n",
      "num_var24_0 --> 0.000335835965171\n",
      "num_var8 --> 0.000323332605931\n",
      "num_var14_0 --> 0.000284645436111\n",
      "num_var7_recib_ult1 --> 0.000276423635482\n",
      "num_var40_0 --> 0.000273146627163\n",
      "imp_op_var40_efect_ult3 --> 0.00027103779225\n",
      "num_var1_0 --> 0.000262695662217\n",
      "ind_var40_0 --> 0.000261561481682\n",
      "ind_var7_recib_ult1 --> 0.000247172495293\n",
      "ind_var14_0 --> 0.000244267351666\n",
      "ind_var25_0 --> 0.0002354435002\n",
      "ind_var26 --> 0.000225188316158\n",
      "ind_var1_0 --> 0.000219113739281\n",
      "ind_var25 --> 0.000218916400199\n",
      "ind_var26_0 --> 0.000206791260951\n",
      "ind_var12 --> 0.000185974002886\n",
      "num_var13_0 --> 0.000183034175898\n",
      "num_var12 --> 0.000182340657236\n",
      "num_op_var40_efect_ult3 --> 0.000182005251418\n",
      "num_meses_var13_corto_ult3 --> 0.000181773692574\n",
      "imp_op_var40_ult1 --> 0.000178412846085\n",
      "num_var13 --> 0.000176947189409\n",
      "ind_var13_0 --> 0.000168085211487\n",
      "ind_var13 --> 0.000165974179488\n",
      "ind_var30_0 --> 0.000164878166564\n",
      "num_op_var40_comer_ult3 --> 0.000163676069515\n",
      "imp_op_var40_comer_ult1 --> 0.000155993432798\n",
      "num_op_var40_efect_ult1 --> 0.000148671311583\n",
      "ind_var32_cte --> 0.000148616311512\n",
      "num_op_var40_ult1 --> 0.000145974598803\n",
      "imp_op_var40_comer_ult3 --> 0.000145608439044\n",
      "num_var24 --> 0.000142170888421\n",
      "ind_var24 --> 0.000138918765957\n",
      "imp_compra_var44_ult1 --> 0.000127753492216\n",
      "ind_var19 --> 0.000115663874818\n",
      "imp_aport_var13_ult1 --> 0.000115422312929\n",
      "ind_var13_corto_0 --> 0.000114314529203\n",
      "num_op_var40_ult3 --> 0.000112178359326\n",
      "num_var13_corto_0 --> 0.000108926912055\n",
      "num_op_var40_comer_ult1 --> 0.000107582202219\n",
      "num_var14 --> 0.000107125602089\n",
      "imp_aport_var13_hace3 --> 0.000104918241482\n",
      "ind_var13_corto --> 0.000100937379623\n",
      "ind_var14 --> 0.000100512869178\n",
      "delta_num_aport_var13_1y3 --> 9.93811700213e-05\n",
      "num_var13_corto --> 9.70402536905e-05\n",
      "delta_imp_aport_var13_1y3 --> 9.10445685181e-05\n",
      "ind_var1 --> 8.07629511291e-05\n",
      "num_reemb_var17_ult1 --> 6.87653281029e-05\n",
      "ind_var40 --> 6.79292082086e-05\n",
      "imp_reemb_var17_ult1 --> 6.79176469056e-05\n",
      "num_var32 --> 6.44349368908e-05\n",
      "num_var32_0 --> 6.26073431493e-05\n",
      "ind_var39 --> 6.2207356306e-05\n",
      "num_var40 --> 6.18764997389e-05\n",
      "num_var39 --> 6.17226085842e-05\n",
      "num_var1 --> 6.06677004572e-05\n",
      "imp_reemb_var13_ult1 --> 5.86987441601e-05\n",
      "num_var17 --> 5.79641522994e-05\n",
      "num_var13_largo --> 5.60013309475e-05\n",
      "num_aport_var13_hace3 --> 5.38056017137e-05\n",
      "num_aport_var17_ult1 --> 5.32817871417e-05\n",
      "num_var17_0 --> 5.06149136537e-05\n",
      "ind_var32 --> 4.96468528759e-05\n",
      "num_var31_0 --> 4.93582465446e-05\n",
      "num_op_var40_hace2 --> 4.80961923857e-05\n",
      "ind_var13_largo --> 4.32037010579e-05\n",
      "ind_var32_0 --> 4.01629220655e-05\n",
      "num_aport_var13_ult1 --> 3.85672305016e-05\n",
      "ind_var17_0 --> 3.75061719428e-05\n",
      "num_var31 --> 3.74639855976e-05\n",
      "ind_var13_largo_0 --> 3.66100916754e-05\n",
      "ind_var17 --> 3.28924247904e-05\n",
      "ind_var31_0 --> 3.17004892174e-05\n",
      "num_var13_largo_0 --> 3.05684861578e-05\n",
      "delta_num_compra_var44_1y3 --> 2.87149682171e-05\n",
      "delta_imp_compra_var44_1y3 --> 2.77670776588e-05\n",
      "ind_var20_0 --> 2.71208165893e-05\n",
      "imp_aport_var17_ult1 --> 2.64802376912e-05\n",
      "num_meses_var17_ult3 --> 2.61341586399e-05\n",
      "num_var20_0 --> 2.59026820181e-05\n",
      "num_compra_var44_ult1 --> 2.32044896811e-05\n",
      "num_reemb_var13_ult1 --> 2.26111409453e-05\n",
      "num_meses_var44_ult3 --> 2.11830789098e-05\n",
      "ind_var44 --> 2.06272419054e-05\n",
      "ind_var31 --> 1.79674513767e-05\n",
      "delta_imp_reemb_var13_1y3 --> 1.79205741746e-05\n",
      "num_meses_var13_largo_ult3 --> 1.59083009675e-05\n",
      "ind_var44_0 --> 1.37755725207e-05\n",
      "num_var44 --> 1.36981855234e-05\n",
      "num_var44_0 --> 1.23994646662e-05\n",
      "delta_num_reemb_var13_1y3 --> 1.03899074799e-05\n",
      "num_venta_var44_ult1 --> 8.15582391192e-06\n",
      "imp_venta_var44_ult1 --> 8.10392181301e-06\n",
      "delta_imp_reemb_var17_1y3 --> 7.5336316764e-06\n",
      "ind_var33_0 --> 6.85294897608e-06\n",
      "delta_imp_venta_var44_1y3 --> 5.26149371739e-06\n",
      "delta_num_venta_var44_1y3 --> 5.02864000444e-06\n",
      "delta_num_aport_var17_1y3 --> 3.78876345529e-06\n",
      "ind_var33 --> 3.39662376069e-06\n",
      "num_compra_var44_hace3 --> 3.07482357356e-06\n",
      "num_var33_0 --> 3.03509187498e-06\n",
      "num_var20 --> 3.00244679264e-06\n",
      "delta_imp_aport_var17_1y3 --> 2.67681901158e-06\n",
      "delta_num_reemb_var17_1y3 --> 2.36867844543e-06\n",
      "num_var33 --> 2.23577817395e-06\n",
      "ind_var20 --> 2.07266663827e-06\n",
      "delta_num_aport_var33_1y3 --> 1.74597205499e-06\n",
      "num_meses_var33_ult3 --> 1.70681705781e-06\n",
      "imp_amort_var18_ult1 --> 1.49908396827e-06\n",
      "num_trasp_var17_out_ult1 --> 1.39874248409e-06\n",
      "num_venta_var44_hace3 --> 1.14089847486e-06\n",
      "imp_venta_var44_hace3 --> 7.55665799485e-07\n",
      "num_aport_var17_hace3 --> 6.62817736791e-07\n",
      "ind_var13_medio --> 6.20657592492e-07\n",
      "ind_var7_emit_ult1 --> 5.24334123403e-07\n",
      "num_trasp_var33_in_hace3 --> 5.09935550672e-07\n",
      "delta_num_trasp_var33_in_1y3 --> 4.92192215029e-07\n",
      "imp_compra_var44_hace3 --> 4.45879042372e-07\n",
      "num_aport_var33_hace3 --> 4.14075524767e-07\n",
      "imp_trasp_var17_in_ult1 --> 4.03958578622e-07\n",
      "delta_imp_trasp_var33_in_1y3 --> 4.00579149696e-07\n",
      "ind_var18 --> 3.86809988009e-07\n",
      "delta_num_trasp_var17_in_1y3 --> 3.85932518258e-07\n",
      "num_var18 --> 3.75446527458e-07\n",
      "num_var7_emit_ult1 --> 3.73226504024e-07\n",
      "imp_var7_emit_ult1 --> 3.72951689481e-07\n",
      "delta_num_trasp_var17_out_1y3 --> 3.69718651667e-07\n",
      "imp_trasp_var33_in_hace3 --> 3.55599473177e-07\n",
      "imp_aport_var33_hace3 --> 2.76180007971e-07\n",
      "delta_imp_amort_var18_1y3 --> 2.45921153965e-07\n",
      "num_var29_0 --> 1.95585887998e-07\n",
      "ind_var6_0 --> 1.7724065443e-07\n",
      "num_var6_0 --> 1.44549350664e-07\n",
      "imp_trasp_var17_out_ult1 --> 8.95469487092e-08\n",
      "delta_num_trasp_var33_out_1y3 --> 3.17063959115e-08\n",
      "delta_imp_trasp_var17_in_1y3 --> 2.86196592483e-08\n",
      "num_trasp_var17_in_hace3 --> 2.32849548783e-08\n",
      "imp_aport_var17_hace3 --> 8.52446625549e-09\n",
      "ind_var29_0 --> 8.49628656752e-09\n",
      "delta_imp_aport_var33_1y3 --> 7.0568475238e-09\n",
      "num_var29 --> 6.64921867334e-09\n",
      "num_reemb_var17_hace3 --> 4.7367093317e-09\n",
      "num_var18_0 --> 4.14441998207e-09\n",
      "num_meses_var29_ult3 --> 3.99151738529e-09\n",
      "imp_aport_var33_ult1 --> 3.82740361623e-09\n",
      "delta_imp_trasp_var17_out_1y3 --> 3.04033563657e-09\n",
      "num_var34 --> 2.22045047357e-09\n",
      "ind_var13_medio_0 --> 1.13285551954e-09\n",
      "num_trasp_var17_in_ult1 --> 7.59241222449e-10\n"
     ]
    }
   ],
   "source": [
    "# We can use an initial random forest to select important features\n",
    "if True:\n",
    "    threshold = 0.01\n",
    "    rank = feature_importance(500, data)\n",
    "    print(\"We have ranked the features as follows:\".format(len(selected)))\n",
    "    flag = 1\n",
    "    count = 0\n",
    "    for a in sorted(selected.keys(), key=selected.get)[::-1]:\n",
    "        aux = selected[a]\n",
    "        count+= 1\n",
    "        if aux < threshold and flag:\n",
    "            flag = 0\n",
    "            print('---'*5)\n",
    "            print('There are {} features above {} '.format(count, threshold))\n",
    "            print('---'*5)\n",
    "        print(a,'-->',selected[a])"
   ]
  },
  {
   "cell_type": "markdown",
   "metadata": {},
   "source": [
    "### Our intuition is correct as all the created variables are in the top of the importance rank."
   ]
  },
  {
   "cell_type": "code",
   "execution_count": 9,
   "metadata": {
    "collapsed": false
   },
   "outputs": [],
   "source": [
    "train, test = train_test_split(data, test_size = 0.2, random_state = 42)"
   ]
  },
  {
   "cell_type": "code",
   "execution_count": 72,
   "metadata": {
    "collapsed": false
   },
   "outputs": [
    {
     "data": {
      "text/html": [
       "<div>\n",
       "<table border=\"1\" class=\"dataframe\">\n",
       "  <thead>\n",
       "    <tr style=\"text-align: right;\">\n",
       "      <th></th>\n",
       "      <th>mean_saldo_medio_ult3</th>\n",
       "      <th>mean_saldo_medio_ult1</th>\n",
       "      <th>mean_saldo_medio_hace3</th>\n",
       "      <th>mean_saldo_medio_hace2</th>\n",
       "      <th>mean_saldo</th>\n",
       "      <th>var3</th>\n",
       "      <th>var15</th>\n",
       "      <th>imp_ent_var16_ult1</th>\n",
       "      <th>imp_op_var39_comer_ult1</th>\n",
       "      <th>imp_op_var39_comer_ult3</th>\n",
       "      <th>...</th>\n",
       "      <th>num_venta_var44_hace3</th>\n",
       "      <th>num_venta_var44_ult1</th>\n",
       "      <th>num_var45_hace2</th>\n",
       "      <th>num_var45_hace3</th>\n",
       "      <th>num_var45_ult1</th>\n",
       "      <th>num_var45_ult3</th>\n",
       "      <th>var38</th>\n",
       "      <th>SumZeros</th>\n",
       "      <th>NumAssets</th>\n",
       "      <th>TARGET</th>\n",
       "    </tr>\n",
       "  </thead>\n",
       "  <tbody>\n",
       "    <tr>\n",
       "      <th>0</th>\n",
       "      <td>5.224154</td>\n",
       "      <td>5.833154</td>\n",
       "      <td>0.727549</td>\n",
       "      <td>3.403428</td>\n",
       "      <td>5.673626</td>\n",
       "      <td>0</td>\n",
       "      <td>23</td>\n",
       "      <td>0.0</td>\n",
       "      <td>0.0</td>\n",
       "      <td>0.0</td>\n",
       "      <td>...</td>\n",
       "      <td>0</td>\n",
       "      <td>0</td>\n",
       "      <td>0</td>\n",
       "      <td>0</td>\n",
       "      <td>0</td>\n",
       "      <td>0</td>\n",
       "      <td>76041.960000</td>\n",
       "      <td>247</td>\n",
       "      <td>6</td>\n",
       "      <td>0</td>\n",
       "    </tr>\n",
       "    <tr>\n",
       "      <th>1</th>\n",
       "      <td>9.252964</td>\n",
       "      <td>9.638293</td>\n",
       "      <td>9.120599</td>\n",
       "      <td>9.617788</td>\n",
       "      <td>9.814150</td>\n",
       "      <td>0</td>\n",
       "      <td>51</td>\n",
       "      <td>0.0</td>\n",
       "      <td>0.0</td>\n",
       "      <td>0.0</td>\n",
       "      <td>...</td>\n",
       "      <td>0</td>\n",
       "      <td>0</td>\n",
       "      <td>9</td>\n",
       "      <td>30</td>\n",
       "      <td>9</td>\n",
       "      <td>48</td>\n",
       "      <td>94024.050000</td>\n",
       "      <td>234</td>\n",
       "      <td>9</td>\n",
       "      <td>0</td>\n",
       "    </tr>\n",
       "    <tr>\n",
       "      <th>2</th>\n",
       "      <td>0.000000</td>\n",
       "      <td>0.000000</td>\n",
       "      <td>0.000000</td>\n",
       "      <td>0.000000</td>\n",
       "      <td>0.000000</td>\n",
       "      <td>0</td>\n",
       "      <td>44</td>\n",
       "      <td>0.0</td>\n",
       "      <td>0.0</td>\n",
       "      <td>0.0</td>\n",
       "      <td>...</td>\n",
       "      <td>0</td>\n",
       "      <td>0</td>\n",
       "      <td>0</td>\n",
       "      <td>0</td>\n",
       "      <td>0</td>\n",
       "      <td>0</td>\n",
       "      <td>111306.990000</td>\n",
       "      <td>262</td>\n",
       "      <td>4</td>\n",
       "      <td>0</td>\n",
       "    </tr>\n",
       "    <tr>\n",
       "      <th>3</th>\n",
       "      <td>5.244495</td>\n",
       "      <td>5.849711</td>\n",
       "      <td>0.749843</td>\n",
       "      <td>3.577026</td>\n",
       "      <td>5.696852</td>\n",
       "      <td>0</td>\n",
       "      <td>57</td>\n",
       "      <td>0.0</td>\n",
       "      <td>0.0</td>\n",
       "      <td>0.0</td>\n",
       "      <td>...</td>\n",
       "      <td>0</td>\n",
       "      <td>0</td>\n",
       "      <td>6</td>\n",
       "      <td>3</td>\n",
       "      <td>0</td>\n",
       "      <td>9</td>\n",
       "      <td>117310.979016</td>\n",
       "      <td>243</td>\n",
       "      <td>6</td>\n",
       "      <td>0</td>\n",
       "    </tr>\n",
       "    <tr>\n",
       "      <th>4</th>\n",
       "      <td>0.000000</td>\n",
       "      <td>0.000000</td>\n",
       "      <td>0.000000</td>\n",
       "      <td>0.000000</td>\n",
       "      <td>0.000000</td>\n",
       "      <td>0</td>\n",
       "      <td>61</td>\n",
       "      <td>0.0</td>\n",
       "      <td>0.0</td>\n",
       "      <td>0.0</td>\n",
       "      <td>...</td>\n",
       "      <td>0</td>\n",
       "      <td>0</td>\n",
       "      <td>0</td>\n",
       "      <td>0</td>\n",
       "      <td>0</td>\n",
       "      <td>0</td>\n",
       "      <td>97021.020000</td>\n",
       "      <td>262</td>\n",
       "      <td>4</td>\n",
       "      <td>0</td>\n",
       "    </tr>\n",
       "  </tbody>\n",
       "</table>\n",
       "<p>5 rows × 278 columns</p>\n",
       "</div>"
      ],
      "text/plain": [
       "   mean_saldo_medio_ult3  mean_saldo_medio_ult1  mean_saldo_medio_hace3  \\\n",
       "0               5.224154               5.833154                0.727549   \n",
       "1               9.252964               9.638293                9.120599   \n",
       "2               0.000000               0.000000                0.000000   \n",
       "3               5.244495               5.849711                0.749843   \n",
       "4               0.000000               0.000000                0.000000   \n",
       "\n",
       "   mean_saldo_medio_hace2  mean_saldo  var3  var15  imp_ent_var16_ult1  \\\n",
       "0                3.403428    5.673626     0     23                 0.0   \n",
       "1                9.617788    9.814150     0     51                 0.0   \n",
       "2                0.000000    0.000000     0     44                 0.0   \n",
       "3                3.577026    5.696852     0     57                 0.0   \n",
       "4                0.000000    0.000000     0     61                 0.0   \n",
       "\n",
       "   imp_op_var39_comer_ult1  imp_op_var39_comer_ult3   ...    \\\n",
       "0                      0.0                      0.0   ...     \n",
       "1                      0.0                      0.0   ...     \n",
       "2                      0.0                      0.0   ...     \n",
       "3                      0.0                      0.0   ...     \n",
       "4                      0.0                      0.0   ...     \n",
       "\n",
       "   num_venta_var44_hace3  num_venta_var44_ult1  num_var45_hace2  \\\n",
       "0                      0                     0                0   \n",
       "1                      0                     0                9   \n",
       "2                      0                     0                0   \n",
       "3                      0                     0                6   \n",
       "4                      0                     0                0   \n",
       "\n",
       "   num_var45_hace3  num_var45_ult1  num_var45_ult3          var38  SumZeros  \\\n",
       "0                0               0               0   76041.960000       247   \n",
       "1               30               9              48   94024.050000       234   \n",
       "2                0               0               0  111306.990000       262   \n",
       "3                3               0               9  117310.979016       243   \n",
       "4                0               0               0   97021.020000       262   \n",
       "\n",
       "   NumAssets  TARGET  \n",
       "0          6       0  \n",
       "1          9       0  \n",
       "2          4       0  \n",
       "3          6       0  \n",
       "4          4       0  \n",
       "\n",
       "[5 rows x 278 columns]"
      ]
     },
     "execution_count": 72,
     "metadata": {},
     "output_type": "execute_result"
    }
   ],
   "source": [
    "train.head()"
   ]
  },
  {
   "cell_type": "markdown",
   "metadata": {},
   "source": [
    "According to the cross-validation analysis, the best results are obtained with N=4, w=1, N_forest=60, n_trees=300"
   ]
  },
  {
   "cell_type": "code",
   "execution_count": 10,
   "metadata": {
    "collapsed": false
   },
   "outputs": [],
   "source": [
    "a = 0.25 # a can also be >1 to also oversample the minority class (1 ie. unhappy)\n",
    "w = 1\n",
    "N_forest = 60\n",
    "n_trees = 300"
   ]
  },
  {
   "cell_type": "code",
   "execution_count": 11,
   "metadata": {
    "collapsed": false
   },
   "outputs": [],
   "source": [
    "rfs = trainForests(train, a, w, N_forest, n_trees)"
   ]
  },
  {
   "cell_type": "code",
   "execution_count": 12,
   "metadata": {
    "collapsed": true
   },
   "outputs": [],
   "source": [
    "X_test, Y_test = test.ix[:,:-1], test.ix[:,-1]"
   ]
  },
  {
   "cell_type": "code",
   "execution_count": 13,
   "metadata": {
    "collapsed": false
   },
   "outputs": [],
   "source": [
    "Y_prob = mean_ensemble(rfs, X_test)"
   ]
  },
  {
   "cell_type": "code",
   "execution_count": 14,
   "metadata": {
    "collapsed": false
   },
   "outputs": [
    {
     "data": {
      "text/plain": [
       "0.83139857787121751"
      ]
     },
     "execution_count": 14,
     "metadata": {},
     "output_type": "execute_result"
    }
   ],
   "source": [
    "roc_auc_score(Y_test,Y_prob['arithmetic'])"
   ]
  },
  {
   "cell_type": "code",
   "execution_count": 15,
   "metadata": {
    "collapsed": false
   },
   "outputs": [
    {
     "data": {
      "text/plain": [
       "0.83336689096482208"
      ]
     },
     "execution_count": 15,
     "metadata": {},
     "output_type": "execute_result"
    }
   ],
   "source": [
    "roc_auc_score(Y_test,Y_prob['geometric'])"
   ]
  },
  {
   "cell_type": "markdown",
   "metadata": {},
   "source": [
    "Using select_features, we cut down to 19 important features and obtained 0.838 and 0.839.\n",
    "\n",
    "Without using select_features we ended up with .8348 and .8357 :/"
   ]
  },
  {
   "cell_type": "markdown",
   "metadata": {},
   "source": [
    "## Meta Ensemble"
   ]
  },
  {
   "cell_type": "markdown",
   "metadata": {},
   "source": [
    "Now we are going to use the random forest classifiers trained above to create a meta predictor."
   ]
  },
  {
   "cell_type": "code",
   "execution_count": 16,
   "metadata": {
    "collapsed": false
   },
   "outputs": [],
   "source": [
    "train = train.reset_index(drop=True)\n",
    "test = test.reset_index(drop=True)"
   ]
  },
  {
   "cell_type": "code",
   "execution_count": 95,
   "metadata": {
    "collapsed": false
   },
   "outputs": [
    {
     "data": {
      "text/html": [
       "<div>\n",
       "<table border=\"1\" class=\"dataframe\">\n",
       "  <thead>\n",
       "    <tr style=\"text-align: right;\">\n",
       "      <th></th>\n",
       "      <th>mean_saldo_medio_ult3</th>\n",
       "      <th>mean_saldo_medio_ult1</th>\n",
       "      <th>mean_saldo_medio_hace3</th>\n",
       "      <th>mean_saldo_medio_hace2</th>\n",
       "      <th>mean_saldo</th>\n",
       "      <th>var3</th>\n",
       "      <th>var15</th>\n",
       "      <th>imp_ent_var16_ult1</th>\n",
       "      <th>imp_op_var39_comer_ult1</th>\n",
       "      <th>imp_op_var39_comer_ult3</th>\n",
       "      <th>...</th>\n",
       "      <th>num_venta_var44_hace3</th>\n",
       "      <th>num_venta_var44_ult1</th>\n",
       "      <th>num_var45_hace2</th>\n",
       "      <th>num_var45_hace3</th>\n",
       "      <th>num_var45_ult1</th>\n",
       "      <th>num_var45_ult3</th>\n",
       "      <th>var38</th>\n",
       "      <th>SumZeros</th>\n",
       "      <th>NumAssets</th>\n",
       "      <th>TARGET</th>\n",
       "    </tr>\n",
       "  </thead>\n",
       "  <tbody>\n",
       "    <tr>\n",
       "      <th>0</th>\n",
       "      <td>5.224154</td>\n",
       "      <td>5.833154</td>\n",
       "      <td>0.727549</td>\n",
       "      <td>3.403428</td>\n",
       "      <td>5.673626</td>\n",
       "      <td>0</td>\n",
       "      <td>23</td>\n",
       "      <td>0.0</td>\n",
       "      <td>0.0</td>\n",
       "      <td>0.0</td>\n",
       "      <td>...</td>\n",
       "      <td>0</td>\n",
       "      <td>0</td>\n",
       "      <td>0</td>\n",
       "      <td>0</td>\n",
       "      <td>0</td>\n",
       "      <td>0</td>\n",
       "      <td>76041.960000</td>\n",
       "      <td>247</td>\n",
       "      <td>6</td>\n",
       "      <td>0</td>\n",
       "    </tr>\n",
       "    <tr>\n",
       "      <th>1</th>\n",
       "      <td>9.252964</td>\n",
       "      <td>9.638293</td>\n",
       "      <td>9.120599</td>\n",
       "      <td>9.617788</td>\n",
       "      <td>9.814150</td>\n",
       "      <td>0</td>\n",
       "      <td>51</td>\n",
       "      <td>0.0</td>\n",
       "      <td>0.0</td>\n",
       "      <td>0.0</td>\n",
       "      <td>...</td>\n",
       "      <td>0</td>\n",
       "      <td>0</td>\n",
       "      <td>9</td>\n",
       "      <td>30</td>\n",
       "      <td>9</td>\n",
       "      <td>48</td>\n",
       "      <td>94024.050000</td>\n",
       "      <td>234</td>\n",
       "      <td>9</td>\n",
       "      <td>0</td>\n",
       "    </tr>\n",
       "    <tr>\n",
       "      <th>2</th>\n",
       "      <td>0.000000</td>\n",
       "      <td>0.000000</td>\n",
       "      <td>0.000000</td>\n",
       "      <td>0.000000</td>\n",
       "      <td>0.000000</td>\n",
       "      <td>0</td>\n",
       "      <td>44</td>\n",
       "      <td>0.0</td>\n",
       "      <td>0.0</td>\n",
       "      <td>0.0</td>\n",
       "      <td>...</td>\n",
       "      <td>0</td>\n",
       "      <td>0</td>\n",
       "      <td>0</td>\n",
       "      <td>0</td>\n",
       "      <td>0</td>\n",
       "      <td>0</td>\n",
       "      <td>111306.990000</td>\n",
       "      <td>262</td>\n",
       "      <td>4</td>\n",
       "      <td>0</td>\n",
       "    </tr>\n",
       "    <tr>\n",
       "      <th>3</th>\n",
       "      <td>5.244495</td>\n",
       "      <td>5.849711</td>\n",
       "      <td>0.749843</td>\n",
       "      <td>3.577026</td>\n",
       "      <td>5.696852</td>\n",
       "      <td>0</td>\n",
       "      <td>57</td>\n",
       "      <td>0.0</td>\n",
       "      <td>0.0</td>\n",
       "      <td>0.0</td>\n",
       "      <td>...</td>\n",
       "      <td>0</td>\n",
       "      <td>0</td>\n",
       "      <td>6</td>\n",
       "      <td>3</td>\n",
       "      <td>0</td>\n",
       "      <td>9</td>\n",
       "      <td>117310.979016</td>\n",
       "      <td>243</td>\n",
       "      <td>6</td>\n",
       "      <td>0</td>\n",
       "    </tr>\n",
       "    <tr>\n",
       "      <th>4</th>\n",
       "      <td>0.000000</td>\n",
       "      <td>0.000000</td>\n",
       "      <td>0.000000</td>\n",
       "      <td>0.000000</td>\n",
       "      <td>0.000000</td>\n",
       "      <td>0</td>\n",
       "      <td>61</td>\n",
       "      <td>0.0</td>\n",
       "      <td>0.0</td>\n",
       "      <td>0.0</td>\n",
       "      <td>...</td>\n",
       "      <td>0</td>\n",
       "      <td>0</td>\n",
       "      <td>0</td>\n",
       "      <td>0</td>\n",
       "      <td>0</td>\n",
       "      <td>0</td>\n",
       "      <td>97021.020000</td>\n",
       "      <td>262</td>\n",
       "      <td>4</td>\n",
       "      <td>0</td>\n",
       "    </tr>\n",
       "  </tbody>\n",
       "</table>\n",
       "<p>5 rows × 278 columns</p>\n",
       "</div>"
      ],
      "text/plain": [
       "   mean_saldo_medio_ult3  mean_saldo_medio_ult1  mean_saldo_medio_hace3  \\\n",
       "0               5.224154               5.833154                0.727549   \n",
       "1               9.252964               9.638293                9.120599   \n",
       "2               0.000000               0.000000                0.000000   \n",
       "3               5.244495               5.849711                0.749843   \n",
       "4               0.000000               0.000000                0.000000   \n",
       "\n",
       "   mean_saldo_medio_hace2  mean_saldo  var3  var15  imp_ent_var16_ult1  \\\n",
       "0                3.403428    5.673626     0     23                 0.0   \n",
       "1                9.617788    9.814150     0     51                 0.0   \n",
       "2                0.000000    0.000000     0     44                 0.0   \n",
       "3                3.577026    5.696852     0     57                 0.0   \n",
       "4                0.000000    0.000000     0     61                 0.0   \n",
       "\n",
       "   imp_op_var39_comer_ult1  imp_op_var39_comer_ult3   ...    \\\n",
       "0                      0.0                      0.0   ...     \n",
       "1                      0.0                      0.0   ...     \n",
       "2                      0.0                      0.0   ...     \n",
       "3                      0.0                      0.0   ...     \n",
       "4                      0.0                      0.0   ...     \n",
       "\n",
       "   num_venta_var44_hace3  num_venta_var44_ult1  num_var45_hace2  \\\n",
       "0                      0                     0                0   \n",
       "1                      0                     0                9   \n",
       "2                      0                     0                0   \n",
       "3                      0                     0                6   \n",
       "4                      0                     0                0   \n",
       "\n",
       "   num_var45_hace3  num_var45_ult1  num_var45_ult3          var38  SumZeros  \\\n",
       "0                0               0               0   76041.960000       247   \n",
       "1               30               9              48   94024.050000       234   \n",
       "2                0               0               0  111306.990000       262   \n",
       "3                3               0               9  117310.979016       243   \n",
       "4                0               0               0   97021.020000       262   \n",
       "\n",
       "   NumAssets  TARGET  \n",
       "0          6       0  \n",
       "1          9       0  \n",
       "2          4       0  \n",
       "3          6       0  \n",
       "4          4       0  \n",
       "\n",
       "[5 rows x 278 columns]"
      ]
     },
     "execution_count": 95,
     "metadata": {},
     "output_type": "execute_result"
    }
   ],
   "source": [
    "train.head()"
   ]
  },
  {
   "cell_type": "code",
   "execution_count": 17,
   "metadata": {
    "collapsed": false
   },
   "outputs": [],
   "source": [
    "X_train, Y_train = train.ix[:,:-1], train['TARGET']"
   ]
  },
  {
   "cell_type": "code",
   "execution_count": 97,
   "metadata": {
    "collapsed": false
   },
   "outputs": [
    {
     "data": {
      "text/html": [
       "<div>\n",
       "<table border=\"1\" class=\"dataframe\">\n",
       "  <thead>\n",
       "    <tr style=\"text-align: right;\">\n",
       "      <th></th>\n",
       "      <th>mean_saldo_medio_ult3</th>\n",
       "      <th>mean_saldo_medio_ult1</th>\n",
       "      <th>mean_saldo_medio_hace3</th>\n",
       "      <th>mean_saldo_medio_hace2</th>\n",
       "      <th>mean_saldo</th>\n",
       "      <th>var3</th>\n",
       "      <th>var15</th>\n",
       "      <th>imp_ent_var16_ult1</th>\n",
       "      <th>imp_op_var39_comer_ult1</th>\n",
       "      <th>imp_op_var39_comer_ult3</th>\n",
       "      <th>...</th>\n",
       "      <th>num_trasp_var33_out_ult1</th>\n",
       "      <th>num_venta_var44_hace3</th>\n",
       "      <th>num_venta_var44_ult1</th>\n",
       "      <th>num_var45_hace2</th>\n",
       "      <th>num_var45_hace3</th>\n",
       "      <th>num_var45_ult1</th>\n",
       "      <th>num_var45_ult3</th>\n",
       "      <th>var38</th>\n",
       "      <th>SumZeros</th>\n",
       "      <th>NumAssets</th>\n",
       "    </tr>\n",
       "  </thead>\n",
       "  <tbody>\n",
       "    <tr>\n",
       "      <th>0</th>\n",
       "      <td>5.224154</td>\n",
       "      <td>5.833154</td>\n",
       "      <td>0.727549</td>\n",
       "      <td>3.403428</td>\n",
       "      <td>5.673626</td>\n",
       "      <td>0</td>\n",
       "      <td>23</td>\n",
       "      <td>0.0</td>\n",
       "      <td>0.0</td>\n",
       "      <td>0.0</td>\n",
       "      <td>...</td>\n",
       "      <td>0</td>\n",
       "      <td>0</td>\n",
       "      <td>0</td>\n",
       "      <td>0</td>\n",
       "      <td>0</td>\n",
       "      <td>0</td>\n",
       "      <td>0</td>\n",
       "      <td>76041.960000</td>\n",
       "      <td>247</td>\n",
       "      <td>6</td>\n",
       "    </tr>\n",
       "    <tr>\n",
       "      <th>1</th>\n",
       "      <td>9.252964</td>\n",
       "      <td>9.638293</td>\n",
       "      <td>9.120599</td>\n",
       "      <td>9.617788</td>\n",
       "      <td>9.814150</td>\n",
       "      <td>0</td>\n",
       "      <td>51</td>\n",
       "      <td>0.0</td>\n",
       "      <td>0.0</td>\n",
       "      <td>0.0</td>\n",
       "      <td>...</td>\n",
       "      <td>0</td>\n",
       "      <td>0</td>\n",
       "      <td>0</td>\n",
       "      <td>9</td>\n",
       "      <td>30</td>\n",
       "      <td>9</td>\n",
       "      <td>48</td>\n",
       "      <td>94024.050000</td>\n",
       "      <td>234</td>\n",
       "      <td>9</td>\n",
       "    </tr>\n",
       "    <tr>\n",
       "      <th>2</th>\n",
       "      <td>0.000000</td>\n",
       "      <td>0.000000</td>\n",
       "      <td>0.000000</td>\n",
       "      <td>0.000000</td>\n",
       "      <td>0.000000</td>\n",
       "      <td>0</td>\n",
       "      <td>44</td>\n",
       "      <td>0.0</td>\n",
       "      <td>0.0</td>\n",
       "      <td>0.0</td>\n",
       "      <td>...</td>\n",
       "      <td>0</td>\n",
       "      <td>0</td>\n",
       "      <td>0</td>\n",
       "      <td>0</td>\n",
       "      <td>0</td>\n",
       "      <td>0</td>\n",
       "      <td>0</td>\n",
       "      <td>111306.990000</td>\n",
       "      <td>262</td>\n",
       "      <td>4</td>\n",
       "    </tr>\n",
       "    <tr>\n",
       "      <th>3</th>\n",
       "      <td>5.244495</td>\n",
       "      <td>5.849711</td>\n",
       "      <td>0.749843</td>\n",
       "      <td>3.577026</td>\n",
       "      <td>5.696852</td>\n",
       "      <td>0</td>\n",
       "      <td>57</td>\n",
       "      <td>0.0</td>\n",
       "      <td>0.0</td>\n",
       "      <td>0.0</td>\n",
       "      <td>...</td>\n",
       "      <td>0</td>\n",
       "      <td>0</td>\n",
       "      <td>0</td>\n",
       "      <td>6</td>\n",
       "      <td>3</td>\n",
       "      <td>0</td>\n",
       "      <td>9</td>\n",
       "      <td>117310.979016</td>\n",
       "      <td>243</td>\n",
       "      <td>6</td>\n",
       "    </tr>\n",
       "    <tr>\n",
       "      <th>4</th>\n",
       "      <td>0.000000</td>\n",
       "      <td>0.000000</td>\n",
       "      <td>0.000000</td>\n",
       "      <td>0.000000</td>\n",
       "      <td>0.000000</td>\n",
       "      <td>0</td>\n",
       "      <td>61</td>\n",
       "      <td>0.0</td>\n",
       "      <td>0.0</td>\n",
       "      <td>0.0</td>\n",
       "      <td>...</td>\n",
       "      <td>0</td>\n",
       "      <td>0</td>\n",
       "      <td>0</td>\n",
       "      <td>0</td>\n",
       "      <td>0</td>\n",
       "      <td>0</td>\n",
       "      <td>0</td>\n",
       "      <td>97021.020000</td>\n",
       "      <td>262</td>\n",
       "      <td>4</td>\n",
       "    </tr>\n",
       "  </tbody>\n",
       "</table>\n",
       "<p>5 rows × 277 columns</p>\n",
       "</div>"
      ],
      "text/plain": [
       "   mean_saldo_medio_ult3  mean_saldo_medio_ult1  mean_saldo_medio_hace3  \\\n",
       "0               5.224154               5.833154                0.727549   \n",
       "1               9.252964               9.638293                9.120599   \n",
       "2               0.000000               0.000000                0.000000   \n",
       "3               5.244495               5.849711                0.749843   \n",
       "4               0.000000               0.000000                0.000000   \n",
       "\n",
       "   mean_saldo_medio_hace2  mean_saldo  var3  var15  imp_ent_var16_ult1  \\\n",
       "0                3.403428    5.673626     0     23                 0.0   \n",
       "1                9.617788    9.814150     0     51                 0.0   \n",
       "2                0.000000    0.000000     0     44                 0.0   \n",
       "3                3.577026    5.696852     0     57                 0.0   \n",
       "4                0.000000    0.000000     0     61                 0.0   \n",
       "\n",
       "   imp_op_var39_comer_ult1  imp_op_var39_comer_ult3    ...      \\\n",
       "0                      0.0                      0.0    ...       \n",
       "1                      0.0                      0.0    ...       \n",
       "2                      0.0                      0.0    ...       \n",
       "3                      0.0                      0.0    ...       \n",
       "4                      0.0                      0.0    ...       \n",
       "\n",
       "   num_trasp_var33_out_ult1  num_venta_var44_hace3  num_venta_var44_ult1  \\\n",
       "0                         0                      0                     0   \n",
       "1                         0                      0                     0   \n",
       "2                         0                      0                     0   \n",
       "3                         0                      0                     0   \n",
       "4                         0                      0                     0   \n",
       "\n",
       "   num_var45_hace2  num_var45_hace3  num_var45_ult1  num_var45_ult3  \\\n",
       "0                0                0               0               0   \n",
       "1                9               30               9              48   \n",
       "2                0                0               0               0   \n",
       "3                6                3               0               9   \n",
       "4                0                0               0               0   \n",
       "\n",
       "           var38  SumZeros  NumAssets  \n",
       "0   76041.960000       247          6  \n",
       "1   94024.050000       234          9  \n",
       "2  111306.990000       262          4  \n",
       "3  117310.979016       243          6  \n",
       "4   97021.020000       262          4  \n",
       "\n",
       "[5 rows x 277 columns]"
      ]
     },
     "execution_count": 97,
     "metadata": {},
     "output_type": "execute_result"
    }
   ],
   "source": [
    "X_train.head()"
   ]
  },
  {
   "cell_type": "code",
   "execution_count": 18,
   "metadata": {
    "collapsed": false
   },
   "outputs": [],
   "source": [
    "for rf in rfs:\n",
    "    temp = rf.predict(train.ix[:,:-1])\n",
    "    temp = pd.DataFrame(temp)\n",
    "    X_train = pd.concat([X_train, temp], axis=1)"
   ]
  },
  {
   "cell_type": "code",
   "execution_count": 19,
   "metadata": {
    "collapsed": true
   },
   "outputs": [],
   "source": [
    "train_meta = pd.concat([X_train, train['TARGET']], axis=1)"
   ]
  },
  {
   "cell_type": "code",
   "execution_count": 27,
   "metadata": {
    "collapsed": false
   },
   "outputs": [
    {
     "data": {
      "text/html": [
       "<div>\n",
       "<table border=\"1\" class=\"dataframe\">\n",
       "  <thead>\n",
       "    <tr style=\"text-align: right;\">\n",
       "      <th></th>\n",
       "      <th>mean_saldo_medio_ult3</th>\n",
       "      <th>mean_saldo_medio_ult1</th>\n",
       "      <th>mean_saldo_medio_hace3</th>\n",
       "      <th>mean_saldo_medio_hace2</th>\n",
       "      <th>mean_saldo</th>\n",
       "      <th>var3</th>\n",
       "      <th>var15</th>\n",
       "      <th>imp_ent_var16_ult1</th>\n",
       "      <th>imp_op_var39_comer_ult1</th>\n",
       "      <th>imp_op_var39_comer_ult3</th>\n",
       "      <th>...</th>\n",
       "      <th>0</th>\n",
       "      <th>0</th>\n",
       "      <th>0</th>\n",
       "      <th>0</th>\n",
       "      <th>0</th>\n",
       "      <th>0</th>\n",
       "      <th>0</th>\n",
       "      <th>0</th>\n",
       "      <th>0</th>\n",
       "      <th>TARGET</th>\n",
       "    </tr>\n",
       "  </thead>\n",
       "  <tbody>\n",
       "    <tr>\n",
       "      <th>0</th>\n",
       "      <td>5.224154</td>\n",
       "      <td>5.833154</td>\n",
       "      <td>0.727549</td>\n",
       "      <td>3.403428</td>\n",
       "      <td>5.673626</td>\n",
       "      <td>0</td>\n",
       "      <td>23</td>\n",
       "      <td>0.0</td>\n",
       "      <td>0.0</td>\n",
       "      <td>0.0</td>\n",
       "      <td>...</td>\n",
       "      <td>0</td>\n",
       "      <td>0</td>\n",
       "      <td>0</td>\n",
       "      <td>0</td>\n",
       "      <td>0</td>\n",
       "      <td>0</td>\n",
       "      <td>0</td>\n",
       "      <td>0</td>\n",
       "      <td>0</td>\n",
       "      <td>0</td>\n",
       "    </tr>\n",
       "    <tr>\n",
       "      <th>1</th>\n",
       "      <td>9.252964</td>\n",
       "      <td>9.638293</td>\n",
       "      <td>9.120599</td>\n",
       "      <td>9.617788</td>\n",
       "      <td>9.814150</td>\n",
       "      <td>0</td>\n",
       "      <td>51</td>\n",
       "      <td>0.0</td>\n",
       "      <td>0.0</td>\n",
       "      <td>0.0</td>\n",
       "      <td>...</td>\n",
       "      <td>0</td>\n",
       "      <td>0</td>\n",
       "      <td>0</td>\n",
       "      <td>0</td>\n",
       "      <td>0</td>\n",
       "      <td>0</td>\n",
       "      <td>0</td>\n",
       "      <td>0</td>\n",
       "      <td>0</td>\n",
       "      <td>0</td>\n",
       "    </tr>\n",
       "    <tr>\n",
       "      <th>2</th>\n",
       "      <td>0.000000</td>\n",
       "      <td>0.000000</td>\n",
       "      <td>0.000000</td>\n",
       "      <td>0.000000</td>\n",
       "      <td>0.000000</td>\n",
       "      <td>0</td>\n",
       "      <td>44</td>\n",
       "      <td>0.0</td>\n",
       "      <td>0.0</td>\n",
       "      <td>0.0</td>\n",
       "      <td>...</td>\n",
       "      <td>1</td>\n",
       "      <td>1</td>\n",
       "      <td>1</td>\n",
       "      <td>1</td>\n",
       "      <td>1</td>\n",
       "      <td>1</td>\n",
       "      <td>1</td>\n",
       "      <td>1</td>\n",
       "      <td>1</td>\n",
       "      <td>0</td>\n",
       "    </tr>\n",
       "    <tr>\n",
       "      <th>3</th>\n",
       "      <td>5.244495</td>\n",
       "      <td>5.849711</td>\n",
       "      <td>0.749843</td>\n",
       "      <td>3.577026</td>\n",
       "      <td>5.696852</td>\n",
       "      <td>0</td>\n",
       "      <td>57</td>\n",
       "      <td>0.0</td>\n",
       "      <td>0.0</td>\n",
       "      <td>0.0</td>\n",
       "      <td>...</td>\n",
       "      <td>1</td>\n",
       "      <td>0</td>\n",
       "      <td>1</td>\n",
       "      <td>0</td>\n",
       "      <td>1</td>\n",
       "      <td>1</td>\n",
       "      <td>1</td>\n",
       "      <td>1</td>\n",
       "      <td>1</td>\n",
       "      <td>0</td>\n",
       "    </tr>\n",
       "    <tr>\n",
       "      <th>4</th>\n",
       "      <td>0.000000</td>\n",
       "      <td>0.000000</td>\n",
       "      <td>0.000000</td>\n",
       "      <td>0.000000</td>\n",
       "      <td>0.000000</td>\n",
       "      <td>0</td>\n",
       "      <td>61</td>\n",
       "      <td>0.0</td>\n",
       "      <td>0.0</td>\n",
       "      <td>0.0</td>\n",
       "      <td>...</td>\n",
       "      <td>1</td>\n",
       "      <td>1</td>\n",
       "      <td>1</td>\n",
       "      <td>1</td>\n",
       "      <td>1</td>\n",
       "      <td>1</td>\n",
       "      <td>1</td>\n",
       "      <td>1</td>\n",
       "      <td>1</td>\n",
       "      <td>0</td>\n",
       "    </tr>\n",
       "  </tbody>\n",
       "</table>\n",
       "<p>5 rows × 338 columns</p>\n",
       "</div>"
      ],
      "text/plain": [
       "   mean_saldo_medio_ult3  mean_saldo_medio_ult1  mean_saldo_medio_hace3  \\\n",
       "0               5.224154               5.833154                0.727549   \n",
       "1               9.252964               9.638293                9.120599   \n",
       "2               0.000000               0.000000                0.000000   \n",
       "3               5.244495               5.849711                0.749843   \n",
       "4               0.000000               0.000000                0.000000   \n",
       "\n",
       "   mean_saldo_medio_hace2  mean_saldo  var3  var15  imp_ent_var16_ult1  \\\n",
       "0                3.403428    5.673626     0     23                 0.0   \n",
       "1                9.617788    9.814150     0     51                 0.0   \n",
       "2                0.000000    0.000000     0     44                 0.0   \n",
       "3                3.577026    5.696852     0     57                 0.0   \n",
       "4                0.000000    0.000000     0     61                 0.0   \n",
       "\n",
       "   imp_op_var39_comer_ult1  imp_op_var39_comer_ult3   ...    0  0  0  0  0  0  \\\n",
       "0                      0.0                      0.0   ...    0  0  0  0  0  0   \n",
       "1                      0.0                      0.0   ...    0  0  0  0  0  0   \n",
       "2                      0.0                      0.0   ...    1  1  1  1  1  1   \n",
       "3                      0.0                      0.0   ...    1  0  1  0  1  1   \n",
       "4                      0.0                      0.0   ...    1  1  1  1  1  1   \n",
       "\n",
       "   0  0  0  TARGET  \n",
       "0  0  0  0       0  \n",
       "1  0  0  0       0  \n",
       "2  1  1  1       0  \n",
       "3  1  1  1       0  \n",
       "4  1  1  1       0  \n",
       "\n",
       "[5 rows x 338 columns]"
      ]
     },
     "execution_count": 27,
     "metadata": {},
     "output_type": "execute_result"
    }
   ],
   "source": [
    "train_meta.head()"
   ]
  },
  {
   "cell_type": "code",
   "execution_count": 21,
   "metadata": {
    "collapsed": true
   },
   "outputs": [],
   "source": [
    "X_test, Y_test = test.ix[:,:-1], test['TARGET']"
   ]
  },
  {
   "cell_type": "code",
   "execution_count": 22,
   "metadata": {
    "collapsed": true
   },
   "outputs": [],
   "source": [
    "for rf in rfs:\n",
    "    temp = rf.predict(test.ix[:,:-1])\n",
    "    temp = pd.DataFrame(temp)\n",
    "    X_test = pd.concat([X_test, temp], axis=1)"
   ]
  },
  {
   "cell_type": "code",
   "execution_count": 23,
   "metadata": {
    "collapsed": true
   },
   "outputs": [],
   "source": [
    "Y_test = test['TARGET']"
   ]
  },
  {
   "cell_type": "code",
   "execution_count": 24,
   "metadata": {
    "collapsed": false
   },
   "outputs": [
    {
     "data": {
      "text/html": [
       "<div>\n",
       "<table border=\"1\" class=\"dataframe\">\n",
       "  <thead>\n",
       "    <tr style=\"text-align: right;\">\n",
       "      <th></th>\n",
       "      <th>mean_saldo_medio_ult3</th>\n",
       "      <th>mean_saldo_medio_ult1</th>\n",
       "      <th>mean_saldo_medio_hace3</th>\n",
       "      <th>mean_saldo_medio_hace2</th>\n",
       "      <th>mean_saldo</th>\n",
       "      <th>var3</th>\n",
       "      <th>var15</th>\n",
       "      <th>imp_ent_var16_ult1</th>\n",
       "      <th>imp_op_var39_comer_ult1</th>\n",
       "      <th>imp_op_var39_comer_ult3</th>\n",
       "      <th>...</th>\n",
       "      <th>0</th>\n",
       "      <th>0</th>\n",
       "      <th>0</th>\n",
       "      <th>0</th>\n",
       "      <th>0</th>\n",
       "      <th>0</th>\n",
       "      <th>0</th>\n",
       "      <th>0</th>\n",
       "      <th>0</th>\n",
       "      <th>0</th>\n",
       "    </tr>\n",
       "  </thead>\n",
       "  <tbody>\n",
       "    <tr>\n",
       "      <th>0</th>\n",
       "      <td>5.412605</td>\n",
       "      <td>5.986216</td>\n",
       "      <td>1.881499</td>\n",
       "      <td>4.443568</td>\n",
       "      <td>5.951955</td>\n",
       "      <td>0</td>\n",
       "      <td>45</td>\n",
       "      <td>0.0</td>\n",
       "      <td>709.05</td>\n",
       "      <td>1399.17</td>\n",
       "      <td>...</td>\n",
       "      <td>0</td>\n",
       "      <td>0</td>\n",
       "      <td>0</td>\n",
       "      <td>0</td>\n",
       "      <td>0</td>\n",
       "      <td>0</td>\n",
       "      <td>0</td>\n",
       "      <td>0</td>\n",
       "      <td>0</td>\n",
       "      <td>0</td>\n",
       "    </tr>\n",
       "    <tr>\n",
       "      <th>1</th>\n",
       "      <td>9.968666</td>\n",
       "      <td>10.099935</td>\n",
       "      <td>9.753035</td>\n",
       "      <td>10.087061</td>\n",
       "      <td>10.278187</td>\n",
       "      <td>0</td>\n",
       "      <td>60</td>\n",
       "      <td>0.0</td>\n",
       "      <td>0.00</td>\n",
       "      <td>0.00</td>\n",
       "      <td>...</td>\n",
       "      <td>0</td>\n",
       "      <td>0</td>\n",
       "      <td>0</td>\n",
       "      <td>0</td>\n",
       "      <td>0</td>\n",
       "      <td>0</td>\n",
       "      <td>0</td>\n",
       "      <td>0</td>\n",
       "      <td>0</td>\n",
       "      <td>0</td>\n",
       "    </tr>\n",
       "    <tr>\n",
       "      <th>2</th>\n",
       "      <td>5.252111</td>\n",
       "      <td>5.849711</td>\n",
       "      <td>1.938742</td>\n",
       "      <td>3.577026</td>\n",
       "      <td>5.696852</td>\n",
       "      <td>0</td>\n",
       "      <td>27</td>\n",
       "      <td>0.0</td>\n",
       "      <td>0.00</td>\n",
       "      <td>0.00</td>\n",
       "      <td>...</td>\n",
       "      <td>0</td>\n",
       "      <td>0</td>\n",
       "      <td>0</td>\n",
       "      <td>0</td>\n",
       "      <td>0</td>\n",
       "      <td>0</td>\n",
       "      <td>0</td>\n",
       "      <td>0</td>\n",
       "      <td>0</td>\n",
       "      <td>0</td>\n",
       "    </tr>\n",
       "    <tr>\n",
       "      <th>3</th>\n",
       "      <td>5.644089</td>\n",
       "      <td>6.013693</td>\n",
       "      <td>4.473960</td>\n",
       "      <td>5.171466</td>\n",
       "      <td>5.805051</td>\n",
       "      <td>0</td>\n",
       "      <td>38</td>\n",
       "      <td>0.0</td>\n",
       "      <td>269.40</td>\n",
       "      <td>754.05</td>\n",
       "      <td>...</td>\n",
       "      <td>0</td>\n",
       "      <td>1</td>\n",
       "      <td>0</td>\n",
       "      <td>1</td>\n",
       "      <td>0</td>\n",
       "      <td>1</td>\n",
       "      <td>1</td>\n",
       "      <td>1</td>\n",
       "      <td>0</td>\n",
       "      <td>1</td>\n",
       "    </tr>\n",
       "    <tr>\n",
       "      <th>4</th>\n",
       "      <td>5.224202</td>\n",
       "      <td>5.833154</td>\n",
       "      <td>0.741937</td>\n",
       "      <td>3.403428</td>\n",
       "      <td>5.673626</td>\n",
       "      <td>0</td>\n",
       "      <td>23</td>\n",
       "      <td>0.0</td>\n",
       "      <td>0.00</td>\n",
       "      <td>0.00</td>\n",
       "      <td>...</td>\n",
       "      <td>0</td>\n",
       "      <td>0</td>\n",
       "      <td>0</td>\n",
       "      <td>0</td>\n",
       "      <td>0</td>\n",
       "      <td>0</td>\n",
       "      <td>0</td>\n",
       "      <td>0</td>\n",
       "      <td>0</td>\n",
       "      <td>0</td>\n",
       "    </tr>\n",
       "  </tbody>\n",
       "</table>\n",
       "<p>5 rows × 337 columns</p>\n",
       "</div>"
      ],
      "text/plain": [
       "   mean_saldo_medio_ult3  mean_saldo_medio_ult1  mean_saldo_medio_hace3  \\\n",
       "0               5.412605               5.986216                1.881499   \n",
       "1               9.968666              10.099935                9.753035   \n",
       "2               5.252111               5.849711                1.938742   \n",
       "3               5.644089               6.013693                4.473960   \n",
       "4               5.224202               5.833154                0.741937   \n",
       "\n",
       "   mean_saldo_medio_hace2  mean_saldo  var3  var15  imp_ent_var16_ult1  \\\n",
       "0                4.443568    5.951955     0     45                 0.0   \n",
       "1               10.087061   10.278187     0     60                 0.0   \n",
       "2                3.577026    5.696852     0     27                 0.0   \n",
       "3                5.171466    5.805051     0     38                 0.0   \n",
       "4                3.403428    5.673626     0     23                 0.0   \n",
       "\n",
       "   imp_op_var39_comer_ult1  imp_op_var39_comer_ult3 ...  0  0  0  0  0  0  0  \\\n",
       "0                   709.05                  1399.17 ...  0  0  0  0  0  0  0   \n",
       "1                     0.00                     0.00 ...  0  0  0  0  0  0  0   \n",
       "2                     0.00                     0.00 ...  0  0  0  0  0  0  0   \n",
       "3                   269.40                   754.05 ...  0  1  0  1  0  1  1   \n",
       "4                     0.00                     0.00 ...  0  0  0  0  0  0  0   \n",
       "\n",
       "   0  0  0  \n",
       "0  0  0  0  \n",
       "1  0  0  0  \n",
       "2  0  0  0  \n",
       "3  1  0  1  \n",
       "4  0  0  0  \n",
       "\n",
       "[5 rows x 337 columns]"
      ]
     },
     "execution_count": 24,
     "metadata": {},
     "output_type": "execute_result"
    }
   ],
   "source": [
    "X_test.head()"
   ]
  },
  {
   "cell_type": "code",
   "execution_count": 28,
   "metadata": {
    "collapsed": true
   },
   "outputs": [],
   "source": [
    "from sklearn.linear_model import LogisticRegression"
   ]
  },
  {
   "cell_type": "code",
   "execution_count": 31,
   "metadata": {
    "collapsed": true
   },
   "outputs": [],
   "source": [
    "# random regularization\n",
    "cv = {}"
   ]
  },
  {
   "cell_type": "code",
   "execution_count": 32,
   "metadata": {
    "collapsed": false
   },
   "outputs": [
    {
     "name": "stdout",
     "output_type": "stream",
     "text": [
      "0.526267837978\n",
      "0.524654645134\n",
      "0.524757405976\n",
      "0.525752397273\n",
      "0.525820904501\n",
      "0.526336345206\n",
      "0.52304145229\n",
      "0.525649636432\n",
      "0.52571814366\n",
      "0.527262829276\n",
      "0.525923665342\n",
      "0.525444114749\n",
      "0.525889411728\n",
      "0.525649636432\n",
      "0.525581129205\n",
      "0.525478368363\n",
      "0.527778269981\n",
      "0.52571814366\n",
      "0.524894420431\n",
      "0.52609656991\n"
     ]
    }
   ],
   "source": [
    "for _ in range(20):\n",
    "    n_trees = np.random.randint(50,300)\n",
    "    lg = RandomForestClassifier(n_estimators = n_trees)\n",
    "    lg.fit(X_train, Y_train)\n",
    "    cv[n_trees] = roc_auc_score(Y_test, lg.predict(X_test))\n",
    "    print(cv[n_trees], flush=True)"
   ]
  },
  {
   "cell_type": "code",
   "execution_count": 33,
   "metadata": {
    "collapsed": false
   },
   "outputs": [
    {
     "name": "stdout",
     "output_type": "stream",
     "text": [
      "75 0.527778269981\n",
      "227 0.527262829276\n",
      "137 0.526336345206\n",
      "209 0.526267837978\n",
      "65 0.52609656991\n",
      "229 0.525923665342\n",
      "199 0.525889411728\n",
      "177 0.525820904501\n",
      "283 0.525752397273\n",
      "231 0.52571814366\n",
      "121 0.52571814366\n",
      "217 0.525649636432\n",
      "225 0.525649636432\n",
      "109 0.525581129205\n",
      "205 0.525478368363\n",
      "158 0.525444114749\n",
      "299 0.524894420431\n",
      "127 0.524757405976\n",
      "69 0.524654645134\n",
      "97 0.52304145229\n"
     ]
    }
   ],
   "source": [
    "for key in sorted(cv.keys(), key=cv.get)[::-1]:\n",
    "    print(key,cv[key])"
   ]
  },
  {
   "cell_type": "markdown",
   "metadata": {},
   "source": [
    "### Score analysis"
   ]
  },
  {
   "cell_type": "code",
   "execution_count": null,
   "metadata": {
    "collapsed": false
   },
   "outputs": [],
   "source": [
    "X_test, Y_test = test.ix[:,:-1], test.ix[:,-1]\n",
    "n = 100\n",
    "a = 0.25\n",
    "w = 1\n",
    "N_forest = 5\n",
    "n_trees = 5"
   ]
  },
  {
   "cell_type": "code",
   "execution_count": null,
   "metadata": {
    "collapsed": false
   },
   "outputs": [],
   "source": [
    "scores = []\n",
    "for _ in range(n):\n",
    "    rfs = trainForests(train, a, w, N_forest,n_trees)\n",
    "    Y_prob = mean_ensemble(rfs, X_test)\n",
    "    scores.append(roc_auc_score(Y_test,Y_prob))\n",
    "scores = pd.DataFrame(scores)"
   ]
  },
  {
   "cell_type": "code",
   "execution_count": null,
   "metadata": {
    "collapsed": false
   },
   "outputs": [],
   "source": [
    "scores.describe()"
   ]
  },
  {
   "cell_type": "code",
   "execution_count": null,
   "metadata": {
    "collapsed": false
   },
   "outputs": [],
   "source": [
    "plt.title(\"Distribution of scores\")\n",
    "plt.hist(scores)\n",
    "plt.show()"
   ]
  },
  {
   "cell_type": "code",
   "execution_count": null,
   "metadata": {
    "collapsed": true
   },
   "outputs": [],
   "source": [
    "# If desired, transform probabilities into class labels.\n",
    "def threshold(Y_prob, threshold = 0.5):\n",
    "    result = []\n",
    "    for y in Y_prob:\n",
    "        if y <= threshold:\n",
    "            result.append(0)\n",
    "        else:\n",
    "            result.append(1)\n",
    "    return result"
   ]
  },
  {
   "cell_type": "code",
   "execution_count": null,
   "metadata": {
    "collapsed": false
   },
   "outputs": [],
   "source": [
    "# Evaluate class labels\n",
    "Y_pred = threshold(Y_prob, threshold = 0.5)\n",
    "_ = eval_classification(test['TARGET'],Y_pred, print_results = True)"
   ]
  },
  {
   "cell_type": "code",
   "execution_count": null,
   "metadata": {
    "collapsed": true
   },
   "outputs": [],
   "source": [
    "# Plot feature importance\n",
    "def plot_features(forest):  \n",
    "    importances = forest.feature_importances_\n",
    "    std = np.std([tree.feature_importances_ for tree in forest.estimators_], axis=0)\n",
    "    indices = np.argsort(importances)[::-1]\n",
    "    n=len(indices)\n",
    "    # Plot the feature importances of the forest\n",
    "    plt.figure()\n",
    "    plt.title(\"Feature importances\")\n",
    "    plt.bar(range(n), importances[indices],\n",
    "           color=\"r\", yerr=std[indices], align=\"center\")\n",
    "    plt.xticks(range(n), indices)\n",
    "    plt.xlim([-1, n])\n",
    "    plt.show()"
   ]
  },
  {
   "cell_type": "code",
   "execution_count": null,
   "metadata": {
    "collapsed": false
   },
   "outputs": [],
   "source": [
    "train.head()"
   ]
  },
  {
   "cell_type": "code",
   "execution_count": null,
   "metadata": {
    "collapsed": false
   },
   "outputs": [],
   "source": []
  },
  {
   "cell_type": "code",
   "execution_count": null,
   "metadata": {
    "collapsed": false
   },
   "outputs": [],
   "source": []
  },
  {
   "cell_type": "code",
   "execution_count": null,
   "metadata": {
    "collapsed": true
   },
   "outputs": [],
   "source": []
  },
  {
   "cell_type": "code",
   "execution_count": null,
   "metadata": {
    "collapsed": false
   },
   "outputs": [],
   "source": []
  },
  {
   "cell_type": "raw",
   "metadata": {},
   "source": []
  },
  {
   "cell_type": "code",
   "execution_count": null,
   "metadata": {
    "collapsed": true
   },
   "outputs": [],
   "source": []
  },
  {
   "cell_type": "code",
   "execution_count": null,
   "metadata": {
    "collapsed": true
   },
   "outputs": [],
   "source": []
  },
  {
   "cell_type": "markdown",
   "metadata": {},
   "source": [
    "# Create Submission"
   ]
  },
  {
   "cell_type": "code",
   "execution_count": null,
   "metadata": {
    "collapsed": true
   },
   "outputs": [],
   "source": [
    "# Retrain forest on the whole 'train.csv' data\n",
    "rfs = trainForests(data, a, w, N_forest, n_trees)"
   ]
  },
  {
   "cell_type": "code",
   "execution_count": null,
   "metadata": {
    "collapsed": true
   },
   "outputs": [],
   "source": [
    "test = pd.read_csv('data/test.csv')\n",
    "test_id = test.ix[:,'ID'].values\n",
    "process(test)"
   ]
  },
  {
   "cell_type": "code",
   "execution_count": null,
   "metadata": {
    "collapsed": false
   },
   "outputs": [],
   "source": [
    "Y_prob = mean_ensemble(rfs,test)"
   ]
  },
  {
   "cell_type": "code",
   "execution_count": null,
   "metadata": {
    "collapsed": false
   },
   "outputs": [],
   "source": [
    "create_submission(test_id, Y_prob['geometric'])"
   ]
  },
  {
   "cell_type": "markdown",
   "metadata": {},
   "source": [
    "## Ensemble RF and XGBOOST"
   ]
  },
  {
   "cell_type": "code",
   "execution_count": null,
   "metadata": {
    "collapsed": true
   },
   "outputs": [],
   "source": [
    "Y_boost = pd.read_csv('../Kaggle_Santander-master/simplexgbtest.csv')"
   ]
  },
  {
   "cell_type": "code",
   "execution_count": null,
   "metadata": {
    "collapsed": false
   },
   "outputs": [],
   "source": [
    "Y_boost.head()"
   ]
  },
  {
   "cell_type": "code",
   "execution_count": null,
   "metadata": {
    "collapsed": true
   },
   "outputs": [],
   "source": [
    "Y_rf = pd.read_csv('submissions/rforest_ensemble2.csv')"
   ]
  },
  {
   "cell_type": "code",
   "execution_count": null,
   "metadata": {
    "collapsed": false
   },
   "outputs": [],
   "source": [
    "Y_rf.head()"
   ]
  },
  {
   "cell_type": "code",
   "execution_count": null,
   "metadata": {
    "collapsed": true
   },
   "outputs": [],
   "source": [
    "Y_prob = pd.concat([Y_boost,Y_rf.ix[:,'TARGET']], axis=1, ignore_index=True)"
   ]
  },
  {
   "cell_type": "code",
   "execution_count": null,
   "metadata": {
    "collapsed": false
   },
   "outputs": [],
   "source": [
    "Y_prob.rename(columns ={0:'ID', 1:'xgb', 2: 'rfe' }, inplace = True)"
   ]
  },
  {
   "cell_type": "code",
   "execution_count": null,
   "metadata": {
    "collapsed": false
   },
   "outputs": [],
   "source": [
    "# geometric mean ensemble\n",
    "l = 2 #number of predictors to ensemble\n",
    "temp = Y_prob.ix[:,1:].product(axis=1)\n",
    "temp = temp.apply(lambda x: np.power(x, 1./l))\n",
    "Y_prob['geometric'] = temp"
   ]
  },
  {
   "cell_type": "code",
   "execution_count": null,
   "metadata": {
    "collapsed": true
   },
   "outputs": [],
   "source": [
    "# arithmetic mean ensemble\n",
    "l = 2 #number of predictors to ensemble\n",
    "temp = Y_prob[['xgb', 'rfe']].mean(axis=1)\n",
    "temp = temp.apply(lambda x: np.power(x, 1./l))\n",
    "Y_prob['arithmetic'] = temp"
   ]
  },
  {
   "cell_type": "code",
   "execution_count": null,
   "metadata": {
    "collapsed": false
   },
   "outputs": [],
   "source": [
    "# difference column\n",
    "temp = Y_prob['xgb'] - Y_prob['rfe']\n",
    "Y_prob['xgb - rfe'] = temp"
   ]
  },
  {
   "cell_type": "code",
   "execution_count": null,
   "metadata": {
    "collapsed": true
   },
   "outputs": [],
   "source": [
    "# difference column\n",
    "temp = Y_prob['geometric'] - Y_prob['arithmetic']\n",
    "Y_prob['geo - ari'] = temp"
   ]
  },
  {
   "cell_type": "code",
   "execution_count": null,
   "metadata": {
    "collapsed": false
   },
   "outputs": [],
   "source": [
    "Y_prob.head()"
   ]
  },
  {
   "cell_type": "code",
   "execution_count": null,
   "metadata": {
    "collapsed": false
   },
   "outputs": [],
   "source": [
    "plt.title('Differences between XGB and RFE')\n",
    "plt.hist(Y_prob['xgb - rfe'])\n",
    "plt.show()"
   ]
  },
  {
   "cell_type": "code",
   "execution_count": null,
   "metadata": {
    "collapsed": false
   },
   "outputs": [],
   "source": [
    "plt.title('Differences between ensembles')\n",
    "plt.hist(Y_prob['geo - ari'])\n",
    "plt.show()"
   ]
  },
  {
   "cell_type": "code",
   "execution_count": null,
   "metadata": {
    "collapsed": false
   },
   "outputs": [],
   "source": [
    "create_submission(test_id, Y_prob['arithmetic'])"
   ]
  },
  {
   "cell_type": "code",
   "execution_count": null,
   "metadata": {
    "collapsed": true
   },
   "outputs": [],
   "source": []
  }
 ],
 "metadata": {
  "kernelspec": {
   "display_name": "Python 3",
   "language": "python",
   "name": "python3"
  },
  "language_info": {
   "codemirror_mode": {
    "name": "ipython",
    "version": 3
   },
   "file_extension": ".py",
   "mimetype": "text/x-python",
   "name": "python",
   "nbconvert_exporter": "python",
   "pygments_lexer": "ipython3",
   "version": "3.5.2"
  }
 },
 "nbformat": 4,
 "nbformat_minor": 0
}
