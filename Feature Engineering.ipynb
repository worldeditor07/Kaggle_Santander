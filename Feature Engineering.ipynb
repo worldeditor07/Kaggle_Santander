{
 "cells": [
  {
   "cell_type": "code",
   "execution_count": 1,
   "metadata": {
    "collapsed": false
   },
   "outputs": [],
   "source": [
    "import numpy as np\n",
    "import pandas as pd\n",
    "import matplotlib.pyplot as plt\n",
    "import seaborn as sns\n",
    "%matplotlib inline"
   ]
  },
  {
   "cell_type": "code",
   "execution_count": 2,
   "metadata": {
    "collapsed": true
   },
   "outputs": [],
   "source": [
    "from __future__ import division"
   ]
  },
  {
   "cell_type": "code",
   "execution_count": 3,
   "metadata": {
    "collapsed": true
   },
   "outputs": [],
   "source": [
    "train_path = 'train.csv'\n",
    "test_path = 'test.csv'"
   ]
  },
  {
   "cell_type": "markdown",
   "metadata": {},
   "source": [
    "#### rename the id and target variabel"
   ]
  },
  {
   "cell_type": "code",
   "execution_count": 13,
   "metadata": {
    "collapsed": false
   },
   "outputs": [],
   "source": [
    "train = pd.read_csv(train_path)\n",
    "train.rename(columns ={'TARGET':'target', 'ID':'id'}, inplace = True)\n",
    "test = pd.read_csv(test_path)\n",
    "test.rename(columns ={'TARGET':'target', 'ID':'id'}, inplace = True)"
   ]
  },
  {
   "cell_type": "code",
   "execution_count": 5,
   "metadata": {
    "collapsed": false,
    "scrolled": true
   },
   "outputs": [
    {
     "data": {
      "text/html": [
       "<div>\n",
       "<table border=\"1\" class=\"dataframe\">\n",
       "  <thead>\n",
       "    <tr style=\"text-align: right;\">\n",
       "      <th></th>\n",
       "      <th>id</th>\n",
       "      <th>var3</th>\n",
       "      <th>var15</th>\n",
       "      <th>imp_ent_var16_ult1</th>\n",
       "      <th>imp_op_var39_comer_ult1</th>\n",
       "      <th>imp_op_var39_comer_ult3</th>\n",
       "      <th>imp_op_var40_comer_ult1</th>\n",
       "      <th>imp_op_var40_comer_ult3</th>\n",
       "      <th>imp_op_var40_efect_ult1</th>\n",
       "      <th>imp_op_var40_efect_ult3</th>\n",
       "      <th>...</th>\n",
       "      <th>saldo_medio_var33_hace2</th>\n",
       "      <th>saldo_medio_var33_hace3</th>\n",
       "      <th>saldo_medio_var33_ult1</th>\n",
       "      <th>saldo_medio_var33_ult3</th>\n",
       "      <th>saldo_medio_var44_hace2</th>\n",
       "      <th>saldo_medio_var44_hace3</th>\n",
       "      <th>saldo_medio_var44_ult1</th>\n",
       "      <th>saldo_medio_var44_ult3</th>\n",
       "      <th>var38</th>\n",
       "      <th>target</th>\n",
       "    </tr>\n",
       "  </thead>\n",
       "  <tbody>\n",
       "    <tr>\n",
       "      <th>0</th>\n",
       "      <td>1</td>\n",
       "      <td>2</td>\n",
       "      <td>23</td>\n",
       "      <td>0.0</td>\n",
       "      <td>0.0</td>\n",
       "      <td>0.0</td>\n",
       "      <td>0.0</td>\n",
       "      <td>0.0</td>\n",
       "      <td>0.0</td>\n",
       "      <td>0.0</td>\n",
       "      <td>...</td>\n",
       "      <td>0.0</td>\n",
       "      <td>0.0</td>\n",
       "      <td>0.0</td>\n",
       "      <td>0.0</td>\n",
       "      <td>0.0</td>\n",
       "      <td>0.0</td>\n",
       "      <td>0.0</td>\n",
       "      <td>0.0</td>\n",
       "      <td>39205.170000</td>\n",
       "      <td>0</td>\n",
       "    </tr>\n",
       "    <tr>\n",
       "      <th>1</th>\n",
       "      <td>3</td>\n",
       "      <td>2</td>\n",
       "      <td>34</td>\n",
       "      <td>0.0</td>\n",
       "      <td>0.0</td>\n",
       "      <td>0.0</td>\n",
       "      <td>0.0</td>\n",
       "      <td>0.0</td>\n",
       "      <td>0.0</td>\n",
       "      <td>0.0</td>\n",
       "      <td>...</td>\n",
       "      <td>0.0</td>\n",
       "      <td>0.0</td>\n",
       "      <td>0.0</td>\n",
       "      <td>0.0</td>\n",
       "      <td>0.0</td>\n",
       "      <td>0.0</td>\n",
       "      <td>0.0</td>\n",
       "      <td>0.0</td>\n",
       "      <td>49278.030000</td>\n",
       "      <td>0</td>\n",
       "    </tr>\n",
       "    <tr>\n",
       "      <th>2</th>\n",
       "      <td>4</td>\n",
       "      <td>2</td>\n",
       "      <td>23</td>\n",
       "      <td>0.0</td>\n",
       "      <td>0.0</td>\n",
       "      <td>0.0</td>\n",
       "      <td>0.0</td>\n",
       "      <td>0.0</td>\n",
       "      <td>0.0</td>\n",
       "      <td>0.0</td>\n",
       "      <td>...</td>\n",
       "      <td>0.0</td>\n",
       "      <td>0.0</td>\n",
       "      <td>0.0</td>\n",
       "      <td>0.0</td>\n",
       "      <td>0.0</td>\n",
       "      <td>0.0</td>\n",
       "      <td>0.0</td>\n",
       "      <td>0.0</td>\n",
       "      <td>67333.770000</td>\n",
       "      <td>0</td>\n",
       "    </tr>\n",
       "    <tr>\n",
       "      <th>3</th>\n",
       "      <td>8</td>\n",
       "      <td>2</td>\n",
       "      <td>37</td>\n",
       "      <td>0.0</td>\n",
       "      <td>195.0</td>\n",
       "      <td>195.0</td>\n",
       "      <td>0.0</td>\n",
       "      <td>0.0</td>\n",
       "      <td>0.0</td>\n",
       "      <td>0.0</td>\n",
       "      <td>...</td>\n",
       "      <td>0.0</td>\n",
       "      <td>0.0</td>\n",
       "      <td>0.0</td>\n",
       "      <td>0.0</td>\n",
       "      <td>0.0</td>\n",
       "      <td>0.0</td>\n",
       "      <td>0.0</td>\n",
       "      <td>0.0</td>\n",
       "      <td>64007.970000</td>\n",
       "      <td>0</td>\n",
       "    </tr>\n",
       "    <tr>\n",
       "      <th>4</th>\n",
       "      <td>10</td>\n",
       "      <td>2</td>\n",
       "      <td>39</td>\n",
       "      <td>0.0</td>\n",
       "      <td>0.0</td>\n",
       "      <td>0.0</td>\n",
       "      <td>0.0</td>\n",
       "      <td>0.0</td>\n",
       "      <td>0.0</td>\n",
       "      <td>0.0</td>\n",
       "      <td>...</td>\n",
       "      <td>0.0</td>\n",
       "      <td>0.0</td>\n",
       "      <td>0.0</td>\n",
       "      <td>0.0</td>\n",
       "      <td>0.0</td>\n",
       "      <td>0.0</td>\n",
       "      <td>0.0</td>\n",
       "      <td>0.0</td>\n",
       "      <td>117310.979016</td>\n",
       "      <td>0</td>\n",
       "    </tr>\n",
       "  </tbody>\n",
       "</table>\n",
       "<p>5 rows × 371 columns</p>\n",
       "</div>"
      ],
      "text/plain": [
       "   id  var3  var15  imp_ent_var16_ult1  imp_op_var39_comer_ult1  \\\n",
       "0   1     2     23                 0.0                      0.0   \n",
       "1   3     2     34                 0.0                      0.0   \n",
       "2   4     2     23                 0.0                      0.0   \n",
       "3   8     2     37                 0.0                    195.0   \n",
       "4  10     2     39                 0.0                      0.0   \n",
       "\n",
       "   imp_op_var39_comer_ult3  imp_op_var40_comer_ult1  imp_op_var40_comer_ult3  \\\n",
       "0                      0.0                      0.0                      0.0   \n",
       "1                      0.0                      0.0                      0.0   \n",
       "2                      0.0                      0.0                      0.0   \n",
       "3                    195.0                      0.0                      0.0   \n",
       "4                      0.0                      0.0                      0.0   \n",
       "\n",
       "   imp_op_var40_efect_ult1  imp_op_var40_efect_ult3   ...    \\\n",
       "0                      0.0                      0.0   ...     \n",
       "1                      0.0                      0.0   ...     \n",
       "2                      0.0                      0.0   ...     \n",
       "3                      0.0                      0.0   ...     \n",
       "4                      0.0                      0.0   ...     \n",
       "\n",
       "   saldo_medio_var33_hace2  saldo_medio_var33_hace3  saldo_medio_var33_ult1  \\\n",
       "0                      0.0                      0.0                     0.0   \n",
       "1                      0.0                      0.0                     0.0   \n",
       "2                      0.0                      0.0                     0.0   \n",
       "3                      0.0                      0.0                     0.0   \n",
       "4                      0.0                      0.0                     0.0   \n",
       "\n",
       "   saldo_medio_var33_ult3  saldo_medio_var44_hace2  saldo_medio_var44_hace3  \\\n",
       "0                     0.0                      0.0                      0.0   \n",
       "1                     0.0                      0.0                      0.0   \n",
       "2                     0.0                      0.0                      0.0   \n",
       "3                     0.0                      0.0                      0.0   \n",
       "4                     0.0                      0.0                      0.0   \n",
       "\n",
       "   saldo_medio_var44_ult1  saldo_medio_var44_ult3          var38  target  \n",
       "0                     0.0                     0.0   39205.170000       0  \n",
       "1                     0.0                     0.0   49278.030000       0  \n",
       "2                     0.0                     0.0   67333.770000       0  \n",
       "3                     0.0                     0.0   64007.970000       0  \n",
       "4                     0.0                     0.0  117310.979016       0  \n",
       "\n",
       "[5 rows x 371 columns]"
      ]
     },
     "execution_count": 5,
     "metadata": {},
     "output_type": "execute_result"
    }
   ],
   "source": [
    "train.head()"
   ]
  },
  {
   "cell_type": "markdown",
   "metadata": {
    "collapsed": true
   },
   "source": [
    "#### generate a new feature which count the number of zeroes in each sample the data is very sparse"
   ]
  },
  {
   "cell_type": "code",
   "execution_count": 14,
   "metadata": {
    "collapsed": false
   },
   "outputs": [],
   "source": [
    "zeros = (train == 0).sum(axis = 1)\n",
    "train['zeros'] = zeros\n",
    "zeros = (test == 0).sum(axis = 1)\n",
    "test['zeros'] = zeros"
   ]
  },
  {
   "cell_type": "code",
   "execution_count": 15,
   "metadata": {
    "collapsed": false,
    "scrolled": false
   },
   "outputs": [
    {
     "data": {
      "image/png": "[encoded data removed]",
      "text/plain": [
       "<matplotlib.figure.Figure at 0x114fe3cd0>"
      ]
     },
     "metadata": {},
     "output_type": "display_data"
    }
   ],
   "source": [
    "plt.hist(zeros, bins = 20)\n",
    "plt.show()\n",
    "# we need to create an variable to record the number of zeros"
   ]
  },
  {
   "cell_type": "markdown",
   "metadata": {
    "collapsed": true
   },
   "source": [
    "#### perform feature selection based on variables"
   ]
  },
  {
   "cell_type": "markdown",
   "metadata": {},
   "source": [
    "#### var3 could be nationality, and most of them belongs to category 2"
   ]
  },
  {
   "cell_type": "code",
   "execution_count": 9,
   "metadata": {
    "collapsed": false,
    "scrolled": true
   },
   "outputs": [
    {
     "name": "stdout",
     "output_type": "stream",
     "text": [
      "0    0.96021\n",
      "1    0.03979\n",
      "Name: target, dtype: float64\n",
      "var3\n",
      "111    0.500000\n",
      "116    0.500000\n",
      "114    0.200000\n",
      "142    0.166667\n",
      "1      0.104762\n",
      "Name: target, dtype: float64\n",
      "var3\n",
      "-999999      116\n",
      " 0            75\n",
      " 1           105\n",
      " 2         74165\n",
      " 3           108\n",
      "Name: target, dtype: int64\n"
     ]
    }
   ],
   "source": [
    "print train[train.var3 == 2].target.value_counts(normalize = True)\n",
    "unhappy_by_nation = train.groupby('var3').target.sum()\n",
    "customer_by_nation = train.groupby('var3').target.apply(len)\n",
    "rate_by_nation = unhappy_by_nation / customer_by_nation\n",
    "print rate_by_nation.sort_values(ascending = False).head()\n",
    "print customer_by_nation[customer_by_nation.sort_values(ascending = False) > 10].head()\n",
    "# we see most nations has no more than 5 persons"
   ]
  },
  {
   "cell_type": "code",
   "execution_count": 18,
   "metadata": {
    "collapsed": false
   },
   "outputs": [
    {
     "name": "stdout",
     "output_type": "stream",
     "text": [
      "Int64Index([-999999, 0, 1, 2, 3, 4, 5, 6, 7, 8, 9, 10, 11, 12, 13, 14, 15], dtype='int64', name=u'var3')\n",
      "Int64Index([-999999,       0,       1,       2,       3,       4,       5,\n",
      "                  6,       7,       8,       9,      10,      11,      12,\n",
      "                 13,      14,      15,     111,     114,     116,     142],\n",
      "           dtype='int64', name=u'var3')\n"
     ]
    }
   ],
   "source": [
    "# group the countries which has no more than 10 customer records into a category\n",
    "major_nation = train.groupby('var3').apply(len) > 10\n",
    "major_nation = major_nation[major_nation].index\n",
    "print major_nation # the nations with more than 10 people\n",
    "unhappy = rate_by_nation[rate_by_nation != 0].index\n",
    "print unhappy # countries that has unhappy customers\n",
    "#### so from -999999 to 15, there are enough people (>10) and unhappy customers, we treat them \n",
    "#### separately, we use one_hot encoding to treat them and the rest"
   ]
  },
  {
   "cell_type": "code",
   "execution_count": 17,
   "metadata": {
    "collapsed": false
   },
   "outputs": [
    {
     "name": "stdout",
     "output_type": "stream",
     "text": [
      "176\n"
     ]
    }
   ],
   "source": [
    "common_nation = set(test.var3.unique()).intersection((train.var3.unique()))\n",
    "print len(common_nation) # so there are unseen countries in test3"
   ]
  },
  {
   "cell_type": "markdown",
   "metadata": {},
   "source": [
    "#### save the test and train id customers"
   ]
  },
  {
   "cell_type": "code",
   "execution_count": 19,
   "metadata": {
    "collapsed": true
   },
   "outputs": [],
   "source": [
    "test_id = test.id\n",
    "train_id = train.id\n",
    "print set(test_id).intersection(set(train_id)) # there is no overlap in id\n",
    "print all(test.columns == train.columns) # they have the same features"
   ]
  },
  {
   "cell_type": "code",
   "execution_count": 40,
   "metadata": {
    "collapsed": false
   },
   "outputs": [
    {
     "data": {
      "text/plain": [
       "(151837, 372)"
      ]
     },
     "execution_count": 40,
     "metadata": {},
     "output_type": "execute_result"
    }
   ],
   "source": [
    "df = pd.concat([train.iloc[:-1], test], axis = 0) \n",
    "# perform feature engineering on both training, testing\n",
    "df.shape"
   ]
  },
  {
   "cell_type": "markdown",
   "metadata": {},
   "source": [
    "#### group the countries with more than 10 person into a group, called 16, and replace 999999 by -1"
   ]
  },
  {
   "cell_type": "code",
   "execution_count": 23,
   "metadata": {
    "collapsed": false
   },
   "outputs": [
    {
     "name": "stdout",
     "output_type": "stream",
     "text": [
      "[229, 178, 110, 177, 137, 17, 148, 122, 22, 58, 121, 127, 33, 125, 209, 72, 31, 51, 16, 107, 174, 141, 191, 104, 129, 18, 49, 73, 94, 131, 219, 187, 114, 28, 89, 115, 53, 126, 47, 84, 235, 161, 197, 23, 30, 146, 158, 138, 26, 120, 66, 216, 215, 90, 20, 21, 103, 192, 142, 29, 163, 223, 95, 98, 38, 156, 97, 105, 150, 183, 184, 52, 54, 220, 25, 225, 86, 124, 27, 162, 19, 195, 218, 24, 60, 108, 82, 36, 102, 175, 144, 169, 64, 201, 79, 91, 159, 135, 45, 61, 189, 118, 168, 78, 188, 69, 48, 145, 154, 32, 99, 198, 186, 185, 208, 143, 164, 100, 231, 149, 200, 190, 116, 42, 165, 85, 96, 111, 74, 133, 167, 153, 217, 172, 205, 228, 134, 193, 211, 147, 43, 117, 46, 132, 106, 35, 81, 170, 166, 88, 173, 119, 152, 176, 68, 56, 128, 130, 151, 41, 171, 204, 50, 44, 196, 199, 34, 76, 93, 182, 55, 157, 112, 71, 207, 62, 210, 65, 181, 139, 136, 59, 213, 77, 101, 238, 63, 194, 40, 57, 87, 179, 75, 206, 222, 140, 113, 230, 67, 202, 180, 227, 92, 233, 39, 160, 123, 155, 37, 226, 212, 83, 109, 214]\n"
     ]
    }
   ],
   "source": [
    "nations = df.var3.unique().tolist()\n",
    "minor_nation = [nation for nation in nations if nation not in major_nation]\n",
    "print minor_nation"
   ]
  },
  {
   "cell_type": "code",
   "execution_count": 42,
   "metadata": {
    "collapsed": false
   },
   "outputs": [],
   "source": [
    "df.var3.replace(minor_nation, 16, inplace = True) # replace even unseen countries by class 16\n",
    "df.var3.replace(-999999, -1, inplace = True) # replace -999999 by -1 (probabily not necessary)"
   ]
  },
  {
   "cell_type": "code",
   "execution_count": 43,
   "metadata": {
    "collapsed": false
   },
   "outputs": [],
   "source": [
    "countries = pd.get_dummies(df.var3)\n",
    "countries.columns = ['country' + str(d) for d in range(18)] # rename countries\n",
    "df = pd.concat([df, countries], axis = 1)\n",
    "df.drop('var3', axis = 1, inplace = True)"
   ]
  },
  {
   "cell_type": "code",
   "execution_count": 28,
   "metadata": {
    "collapsed": true
   },
   "outputs": [],
   "source": [
    "# perform log transform on var38 so it is log-normal, inparticular, we should separate\n",
    "# 117310.979016\n",
    "central = 117310.979016 # this is close to the mean of the rest of the data, it's \n",
    "                        # likely imputed by mean\n",
    "non_central = df[(df.var38 > 117311) | (df.var38 < 117310.9)].index\n",
    "log_var38 = np.log(df.var38)\n",
    "log_var38 = (log_var38 - np.log(central)) / np.std(log_var38)\n",
    "na_var38 = pd.get_dummies((central - 0.1 < df.var38) & (df.var38 < central + 0.1))\n",
    "na_var38.columns= columns=['non_central', 'central']\n",
    "df['log_var38'] = log_var38\n",
    "df['non_central'] = na_var38.non_central\n",
    "df.drop(['var38'], axis = 1, inplace = True) \n",
    "# use non-central and log-transformed var38 to replace var38\n",
    "df.shape"
   ]
  },
  {
   "cell_type": "code",
   "execution_count": 34,
   "metadata": {
    "collapsed": false
   },
   "outputs": [
    {
     "data": {
      "text/plain": [
       "Index([u'log_var38', 16, 15, 14], dtype='object')"
      ]
     },
     "execution_count": 34,
     "metadata": {},
     "output_type": "execute_result"
    }
   ],
   "source": [
    "df.columns[-1:-5:-1]"
   ]
  },
  {
   "cell_type": "code",
   "execution_count": 29,
   "metadata": {
    "collapsed": false,
    "scrolled": true
   },
   "outputs": [
    {
     "data": {
      "image/png": "[encoded data removed]",
      "text/plain": [
       "<matplotlib.figure.Figure at 0x11592dad0>"
      ]
     },
     "metadata": {},
     "output_type": "display_data"
    }
   ],
   "source": [
    "plt.hist(log_var38.iloc[non_central], bins = 50)\n",
    "plt.show()"
   ]
  },
  {
   "cell_type": "markdown",
   "metadata": {},
   "source": [
    "#### var15 is very important according to xgboost"
   ]
  },
  {
   "cell_type": "code",
   "execution_count": null,
   "metadata": {
    "collapsed": false
   },
   "outputs": [],
   "source": [
    "train.groupby('var15').target.value_counts().sort_values(ascending = False).head()"
   ]
  },
  {
   "cell_type": "markdown",
   "metadata": {},
   "source": [
    "#### a case study of asset_40"
   ]
  },
  {
   "cell_type": "code",
   "execution_count": null,
   "metadata": {
    "collapsed": false,
    "scrolled": true
   },
   "outputs": [],
   "source": [
    "asset_40 = []\n",
    "for name in train.columns:\n",
    "    if 'var40' in name:\n",
    "        asset_40.append(name)\n",
    "print asset_40\n",
    "compare = df[['num_var40', 'num_var40_0']]\n",
    "train.target.value_counts(normalize=True)\n",
    "compare[(compare.num_var40 != 0) & (compare.num_var40_0 !=0)].head()\n",
    "# num_var40 and num_var40_0 are such that\n",
    "# (0, 0) for 99% of customers\n",
    "# (0, 3) for 0.7% of customers\n",
    "# (3, 3) for 0.3% of customers\n",
    "compare = train[['ind_var40', 'ind_var40_0', 'num_var40', 'num_var40_0', 'saldo_var40']]\n",
    "compare.groupby('ind_var40').num_var40.value_counts()\n",
    "compare.groupby('ind_var40').saldo_var40.value_counts().head()\n",
    "# saldo_var remains zero when ind_var is zero, otherwise it can be many values\n",
    "all(train.num_var40 == 3 * train.ind_var40)\n",
    "# correlated data\n",
    "train[train.num_var40_0 == 6]\n",
    "# a single outlier is unsatisfied, so we can safely make it categorical and drop it\n",
    "compare.groupby('ind_var40_0').num_var40_0.value_counts()\n",
    "# so we can also drop num_var40_0\n",
    "df.ind_var41.unique()\n",
    "# ind_var41 is everywhere zero\n",
    "train.groupby('ind_var41').target.value_counts(normalize = True)"
   ]
  },
  {
   "cell_type": "markdown",
   "metadata": {},
   "source": [
    "#### find the constant columns"
   ]
  },
  {
   "cell_type": "code",
   "execution_count": 49,
   "metadata": {
    "collapsed": false
   },
   "outputs": [],
   "source": [
    "const_col = []\n",
    "for name in df.columns:\n",
    "    if len(df[name].unique()) == 1:\n",
    "        const_col.append(name)"
   ]
  },
  {
   "cell_type": "code",
   "execution_count": 50,
   "metadata": {
    "collapsed": true
   },
   "outputs": [],
   "source": [
    "df.drop(const_col, axis = 1, inplace = True) # drop these"
   ]
  },
  {
   "cell_type": "markdown",
   "metadata": {},
   "source": [
    "### to be done: find colinearity"
   ]
  },
  {
   "cell_type": "code",
   "execution_count": null,
   "metadata": {
    "collapsed": true
   },
   "outputs": [],
   "source": [
    "# chi2, pearson correlation, muli-linearity..."
   ]
  },
  {
   "cell_type": "code",
   "execution_count": null,
   "metadata": {
    "collapsed": true
   },
   "outputs": [],
   "source": [
    "from sklearn.feature_selection import SelectKBest\n",
    "from sklearn.feature_selection import chi2, f_classif\n",
    "select = SelectKBest(f_classif, k = 20)"
   ]
  },
  {
   "cell_type": "code",
   "execution_count": null,
   "metadata": {
    "collapsed": true
   },
   "outputs": [],
   "source": []
  },
  {
   "cell_type": "code",
   "execution_count": null,
   "metadata": {
    "collapsed": true
   },
   "outputs": [],
   "source": []
  },
  {
   "cell_type": "code",
   "execution_count": null,
   "metadata": {
    "collapsed": true
   },
   "outputs": [],
   "source": []
  },
  {
   "cell_type": "markdown",
   "metadata": {},
   "source": [
    "### to be done: generate new features"
   ]
  },
  {
   "cell_type": "code",
   "execution_count": null,
   "metadata": {
    "collapsed": true
   },
   "outputs": [],
   "source": [
    "from sklearn.decomposition import PCA\n",
    "from sklearn.manifold import Isomap, t_sne"
   ]
  },
  {
   "cell_type": "code",
   "execution_count": null,
   "metadata": {
    "collapsed": true
   },
   "outputs": [],
   "source": []
  },
  {
   "cell_type": "code",
   "execution_count": null,
   "metadata": {
    "collapsed": true
   },
   "outputs": [],
   "source": []
  },
  {
   "cell_type": "code",
   "execution_count": null,
   "metadata": {
    "collapsed": true
   },
   "outputs": [],
   "source": []
  },
  {
   "cell_type": "code",
   "execution_count": null,
   "metadata": {
    "collapsed": true
   },
   "outputs": [],
   "source": []
  },
  {
   "cell_type": "markdown",
   "metadata": {},
   "source": [
    "#### find variables with less than 5 values"
   ]
  },
  {
   "cell_type": "code",
   "execution_count": 52,
   "metadata": {
    "collapsed": false
   },
   "outputs": [],
   "source": [
    "category_col = []\n",
    "for name in df.columns:\n",
    "    if 3 <= len(df[name].unique()) <= 10:\n",
    "        category_col.append(name)\n",
    "#### for num_op, these are 0, 3, 6, 9, for other variables, only 4 customers will have nonzero\n",
    "#### value"
   ]
  },
  {
   "cell_type": "markdown",
   "metadata": {},
   "source": [
    "### to be done: manually denoise these features\n",
    "### try to learn, if such feature engineering should be performed, oversimplified?"
   ]
  },
  {
   "cell_type": "code",
   "execution_count": null,
   "metadata": {
    "collapsed": false
   },
   "outputs": [],
   "source": [
    "comments = [] # analyze the features and manually engineer these features in appropriate way\n",
    "for name in category_col:\n",
    "    print df.groupby(name).target.value_counts()\n",
    "    #comment = raw_input('Comments:?')\n",
    "    #comments.append([name, comment])"
   ]
  },
  {
   "cell_type": "markdown",
   "metadata": {},
   "source": [
    "#### leaky in the comments means some values give either deterministic zero or one value\n",
    "#### there are variables with strangely large value, then we categorize them with categorical\n",
    "#### variables, more suitable for linear models"
   ]
  },
  {
   "cell_type": "code",
   "execution_count": 53,
   "metadata": {
    "collapsed": false,
    "scrolled": true
   },
   "outputs": [],
   "source": [
    "def checkPair(n):\n",
    "    \"\"\"\n",
    "    put in the asset_number\n",
    "    \"\"\" \n",
    "    print train.groupby(['num_var%d'%n, 'ind_var%d_0'%n]).target.value_counts()"
   ]
  },
  {
   "cell_type": "code",
   "execution_count": null,
   "metadata": {
    "collapsed": true
   },
   "outputs": [],
   "source": [
    "# even though var29, var29_0 are nonzero for only 8 samples, the above analysis shows we can't\n",
    "# drop them to a single indicator variable"
   ]
  },
  {
   "cell_type": "code",
   "execution_count": 54,
   "metadata": {
    "collapsed": false
   },
   "outputs": [
    {
     "name": "stdout",
     "output_type": "stream",
     "text": [
      "num_var33  ind_var33_0  target\n",
      "0          0            0         72955\n",
      "                        1          3008\n",
      "           1            0             9\n",
      "3          1            0            43\n",
      "6          1            0             5\n",
      "Name: target, dtype: int64\n"
     ]
    }
   ],
   "source": [
    "checkPair(33)"
   ]
  },
  {
   "cell_type": "code",
   "execution_count": 57,
   "metadata": {
    "collapsed": false
   },
   "outputs": [
    {
     "name": "stdout",
     "output_type": "stream",
     "text": [
      "num_var1  ind_var1_0  target\n",
      "0         0           0         72178\n",
      "                      1          2971\n",
      "          1           0           568\n",
      "                      1            17\n",
      "3         1           0           265\n",
      "                      1            20\n",
      "6         1           0             1\n",
      "Name: target, dtype: int64\n",
      "\n",
      "\n"
     ]
    }
   ],
   "source": [
    "duplicates = []\n",
    "for i in range(1, 50):\n",
    "    try:\n",
    "        checkPair(i)\n",
    "        print '\\n'\n",
    "    except:\n",
    "        continue"
   ]
  },
  {
   "cell_type": "code",
   "execution_count": null,
   "metadata": {
    "collapsed": true
   },
   "outputs": [],
   "source": [
    "'ind_var13_corto',\n",
    "'ind_var13_corto_0',\n",
    "'ind_var13_largo',\n",
    "'ind_var13_largo_0',\n",
    "'ind_var13_medio',\n",
    "'ind_var13_medio_0',"
   ]
  },
  {
   "cell_type": "code",
   "execution_count": null,
   "metadata": {
    "collapsed": false
   },
   "outputs": [],
   "source": [
    "train.num_var4.value_counts()"
   ]
  },
  {
   "cell_type": "code",
   "execution_count": null,
   "metadata": {
    "collapsed": false
   },
   "outputs": [],
   "source": [
    "for name in train.columns:\n",
    "    if 'num' in name and 'op' not in name and 'delta' not in name:\n",
    "        print name"
   ]
  },
  {
   "cell_type": "code",
   "execution_count": null,
   "metadata": {
    "collapsed": false
   },
   "outputs": [],
   "source": [
    "train.groupby(['ind_var13_medio', 'ind_var13_medio_0']).target.value_counts()"
   ]
  },
  {
   "cell_type": "code",
   "execution_count": null,
   "metadata": {
    "collapsed": false
   },
   "outputs": [],
   "source": [
    "train.groupby(['ind_var25', 'ind_var25_0']).ind_var25_cte.value_counts()\n",
    "# ind_var25, ind_var25_0 are identical"
   ]
  },
  {
   "cell_type": "code",
   "execution_count": null,
   "metadata": {
    "collapsed": true
   },
   "outputs": [],
   "source": [
    "for name in assets:"
   ]
  },
  {
   "cell_type": "code",
   "execution_count": null,
   "metadata": {
    "collapsed": false
   },
   "outputs": [],
   "source": [
    "train.groupby('ind_var2').ind_var2_0.value_counts()"
   ]
  },
  {
   "cell_type": "code",
   "execution_count": null,
   "metadata": {
    "collapsed": true
   },
   "outputs": [],
   "source": [
    "# var18 and var18_0 are the same"
   ]
  },
  {
   "cell_type": "code",
   "execution_count": null,
   "metadata": {
    "collapsed": false
   },
   "outputs": [],
   "source": [
    "train.shape"
   ]
  },
  {
   "cell_type": "code",
   "execution_count": null,
   "metadata": {
    "collapsed": true
   },
   "outputs": [],
   "source": [
    "duplicates = ['ind_var18', 'ind_var25', 'ind_var26', 'ind_var32', 'ind_var34', 'ind_var37']"
   ]
  },
  {
   "cell_type": "code",
   "execution_count": null,
   "metadata": {
    "collapsed": true
   },
   "outputs": [],
   "source": [
    "train.drop(duplicates, axis = 1, inplace = True)"
   ]
  },
  {
   "cell_type": "code",
   "execution_count": null,
   "metadata": {
    "collapsed": false
   },
   "outputs": [],
   "source": [
    "train.shape"
   ]
  },
  {
   "cell_type": "code",
   "execution_count": null,
   "metadata": {
    "collapsed": true
   },
   "outputs": [],
   "source": []
  },
  {
   "cell_type": "code",
   "execution_count": null,
   "metadata": {
    "collapsed": true
   },
   "outputs": [],
   "source": []
  },
  {
   "cell_type": "markdown",
   "metadata": {},
   "source": [
    "### implement XGB model"
   ]
  },
  {
   "cell_type": "code",
   "execution_count": 58,
   "metadata": {
    "collapsed": true
   },
   "outputs": [],
   "source": [
    "import xgboost as xgb"
   ]
  },
  {
   "cell_type": "code",
   "execution_count": 59,
   "metadata": {
    "collapsed": true
   },
   "outputs": [],
   "source": [
    "from sklearn.model_selection import train_test_split"
   ]
  },
  {
   "cell_type": "code",
   "execution_count": 62,
   "metadata": {
    "collapsed": false
   },
   "outputs": [
    {
     "data": {
      "text/plain": [
       "(76020, 356)"
      ]
     },
     "execution_count": 62,
     "metadata": {},
     "output_type": "execute_result"
    }
   ],
   "source": [
    "train = df.iloc[range(len(train)),:] # engineered training set\n",
    "train.shape"
   ]
  },
  {
   "cell_type": "code",
   "execution_count": 122,
   "metadata": {
    "collapsed": false
   },
   "outputs": [],
   "source": [
    "#train.drop('id', axis = 1, inplace = True)\n",
    "train_index, test_index = train_test_split(range(train.shape[0]))\n",
    "Y = train.target.values\n",
    "X = train.drop('target', axis = 1)"
   ]
  },
  {
   "cell_type": "code",
   "execution_count": 105,
   "metadata": {
    "collapsed": false
   },
   "outputs": [],
   "source": [
    "X_train = X.iloc[train_index]\n",
    "X_validation = X.iloc[test_index]\n",
    "\n",
    "X_train = X_train.as_matrix()\n",
    "X_validation = X_validation.as_matrix()"
   ]
  },
  {
   "cell_type": "code",
   "execution_count": 123,
   "metadata": {
    "collapsed": false
   },
   "outputs": [
    {
     "data": {
      "text/plain": [
       "(numpy.ndarray, numpy.ndarray)"
      ]
     },
     "execution_count": 123,
     "metadata": {},
     "output_type": "execute_result"
    }
   ],
   "source": [
    "type(X_train), type(Y)"
   ]
  },
  {
   "cell_type": "code",
   "execution_count": 134,
   "metadata": {
    "collapsed": true
   },
   "outputs": [],
   "source": [
    "Y_train = Y[train_index]\n",
    "Y_validation = Y[test_index]"
   ]
  },
  {
   "cell_type": "markdown",
   "metadata": {},
   "source": [
    "### for the engineered data"
   ]
  },
  {
   "cell_type": "code",
   "execution_count": 71,
   "metadata": {
    "collapsed": false
   },
   "outputs": [],
   "source": [
    "params ={\n",
    "    'max_depth' : 6,\n",
    "    'learning_rate' : 0.03,\n",
    "    'n_estimators' : 150,\n",
    "    'silent' : False,\n",
    "    'objective' : 'binary:logistic',\n",
    "    'reg_alpha' : 2.5,\n",
    "    'eta' : 0.03,\n",
    "    'subsample' : 0.8,\n",
    "    'colsample_bytree' : 0.7,\n",
    "    'min_child_weight' : 1,\n",
    "    'eval_metric' : 'auc'\n",
    "}\n",
    "num_rounds = 10"
   ]
  },
  {
   "cell_type": "code",
   "execution_count": 138,
   "metadata": {
    "collapsed": false,
    "scrolled": true
   },
   "outputs": [],
   "source": [
    "gbm = xgb.XGBClassifier(\n",
    "    max_depth = 6,\n",
    "    learning_rate = 0.03,\n",
    "    n_estimators = 150,\n",
    "    silent = False,\n",
    "    objective = 'binary:logistic',\n",
    "    reg_alpha = 2.5\n",
    ")"
   ]
  },
  {
   "cell_type": "code",
   "execution_count": 139,
   "metadata": {
    "collapsed": false,
    "scrolled": true
   },
   "outputs": [
    {
     "data": {
      "text/plain": [
       "XGBClassifier(base_score=0.5, colsample_bylevel=1, colsample_bytree=1,\n",
       "       gamma=0, learning_rate=0.03, max_delta_step=0, max_depth=6,\n",
       "       min_child_weight=1, missing=None, n_estimators=150, nthread=-1,\n",
       "       objective='binary:logistic', reg_alpha=2.5, reg_lambda=1,\n",
       "       scale_pos_weight=1, seed=0, silent=False, subsample=1)"
      ]
     },
     "execution_count": 139,
     "metadata": {},
     "output_type": "execute_result"
    }
   ],
   "source": [
    "gbm.fit(X_train, Y_train)"
   ]
  },
  {
   "cell_type": "code",
   "execution_count": 77,
   "metadata": {
    "collapsed": true
   },
   "outputs": [],
   "source": [
    "from sklearn.metrics import roc_auc_score"
   ]
  },
  {
   "cell_type": "code",
   "execution_count": 140,
   "metadata": {
    "collapsed": false
   },
   "outputs": [
    {
     "name": "stdout",
     "output_type": "stream",
     "text": [
      "For threshold 0.500, the area under roc-curve is : 0.500\n",
      "For threshold 0.900, the area under roc-curve is : 0.500\n",
      "For threshold 0.950, the area under roc-curve is : 0.499\n",
      "For threshold 0.960, the area under roc-curve is : 0.507\n",
      "For threshold 0.970, the area under roc-curve is : 0.500\n",
      "For threshold 0.975, the area under roc-curve is : 0.499\n",
      "For threshold 0.980, the area under roc-curve is : 0.500\n"
     ]
    }
   ],
   "source": [
    "thresholds = [0.5, 0.9, 0.95, 0.96, 0.97, 0.975, 0.980]\n",
    "for threshold in thresholds:\n",
    "    Y_pred_proba = gbm.predict_proba(X_validation)[:,0] # prob of predicting a zero\n",
    "    Y_pred = np.array([0]*len(X_validation))\n",
    "    for i in xrange(len(X_validation)):\n",
    "        if Y_pred_proba[i] <= threshold:\n",
    "            Y_pred[i] = 1\n",
    "    score = roc_auc_score(Y_validation, Y_pred)\n",
    "    print 'For threshold {:.3f}, the area under roc-curve is : {:.3f}'.format(threshold, score)"
   ]
  },
  {
   "cell_type": "code",
   "execution_count": null,
   "metadata": {
    "collapsed": true
   },
   "outputs": [],
   "source": []
  }
 ],
 "metadata": {
  "anaconda-cloud": {},
  "kernelspec": {
   "display_name": "Python [default]",
   "language": "python",
   "name": "python2"
  },
  "language_info": {
   "codemirror_mode": {
    "name": "ipython",
    "version": 2
   },
   "file_extension": ".py",
   "mimetype": "text/x-python",
   "name": "python",
   "nbconvert_exporter": "python",
   "pygments_lexer": "ipython2",
   "version": "2.7.12"
  }
 },
 "nbformat": 4,
 "nbformat_minor": 1
}
